{
 "cells": [
  {
   "cell_type": "markdown",
   "id": "00fc47e4",
   "metadata": {},
   "source": [
    "# Data fitting and regression\n",
    "\n",
    "Before you start coding, please read the following notes on regression here:\n",
    "\n",
    "https://github.com/wbandabarragan/computational-physics-1/blob/main/extra-notes/notes-regression.pdf\n",
    "\n",
    "The steps you need to follow to sucessfully carry out a meaningful regression are:\n",
    "\n",
    "- Inspect the data (plot and look at it first).\n",
    "\n",
    "- Check if the variables are correlated or if the relation is monotonic. Verify if you can linearise the data, i.e. if you can apply a change of variable and make a plot in which the relation looks linear.\n",
    "\n",
    "- Propose a physically-motivated model for the data. The model should have free parameters.\n",
    "\n",
    "- Find the free parameters of the model by fitting the data via a regression. A regression can be done via optimisation, e.g. by minimising a functional. A popular optimisation method is the method of least squares, see: https://en.wikipedia.org/wiki/Least_squares). Python has several tools to carry out regressions.\n",
    "\n",
    "\n",
    "## Example 1:\n",
    "\n",
    "Let us imagine we measure the thickness of a book for different number of pages. We count the number of pages (variable book pages) and use a Vernier to measure the thickness in units of $mm$.\n",
    "\n",
    "Then, we save the experimental data into a file:\n",
    "\n",
    "https://github.com/wbandabarragan/physics-teaching-data/blob/main/1D-data/books.dat\n"
   ]
  },
  {
   "cell_type": "code",
   "execution_count": 1,
   "id": "cb33b82b",
   "metadata": {},
   "outputs": [],
   "source": [
    "# Import usual libraries\n",
    "\n",
    "import numpy as np\n",
    "import matplotlib.pyplot as plt\n",
    "import pandas as pd"
   ]
  },
  {
   "cell_type": "markdown",
   "id": "a54aa288",
   "metadata": {},
   "source": [
    "### Data input using Pandas\n",
    "\n",
    "We need to inspect the data."
   ]
  },
  {
   "cell_type": "code",
   "execution_count": 2,
   "id": "e1850ca2",
   "metadata": {},
   "outputs": [
    {
     "name": "stdout",
     "output_type": "stream",
     "text": [
      "    N  Pages  Thickness\n",
      "0   1     10        3.0\n",
      "1   2     20        4.5\n",
      "2   3     30        5.5\n",
      "3   4     40        7.0\n",
      "4   5     50        8.0\n",
      "5   6     60        9.0\n",
      "6   7     70        9.5\n",
      "7   8     80       11.1\n",
      "8   9     90       12.0\n",
      "9  10    100       12.9\n"
     ]
    }
   ],
   "source": [
    "# We use Pandas.DF\n",
    "\n",
    "df = pd.read_csv(\"./books.dat\", sep = \"\\s+\")\n",
    "\n",
    "print(df)"
   ]
  },
  {
   "cell_type": "code",
   "execution_count": 3,
   "id": "7f19d97b-dd50-4120-a71b-79768c54b036",
   "metadata": {},
   "outputs": [],
   "source": [
    "# Get data into arrays\n",
    "pages = np.array(df[\"Pages\"]) # in units of pages\n",
    "thick = np.array(df[\"Thickness\"]) # in units of mm\n",
    "\n",
    "#print(pages)\n",
    "#print(thick)"
   ]
  },
  {
   "cell_type": "markdown",
   "id": "f38d5783",
   "metadata": {},
   "source": [
    "### Plotting the data:"
   ]
  },
  {
   "cell_type": "code",
   "execution_count": 4,
   "id": "b12fb8fe",
   "metadata": {},
   "outputs": [
    {
     "data": {
      "image/png": "[encoded data removed]",
      "text/plain": [
       "<Figure size 400x300 with 1 Axes>"
      ]
     },
     "metadata": {},
     "output_type": "display_data"
    }
   ],
   "source": [
    "# Figure environment\n",
    "plt.figure(figsize = (4,3))\n",
    "\n",
    "plt.plot(pages, thick, color = \"magenta\", marker = \"o\",\\\n",
    "        linestyle = \" \", label = \"thickness vs. pages\")\n",
    "\n",
    "# Customisation\n",
    "plt.xlabel(\"Pages [# pages]\")\n",
    "plt.ylabel(\"Thickness [mm]\")\n",
    "plt.legend()\n",
    "\n",
    "plt.show()"
   ]
  },
  {
   "cell_type": "markdown",
   "id": "fd606130",
   "metadata": {},
   "source": [
    "## Analising correlation and monotonicity:\n",
    "\n",
    "### Spearman's coefficient\n",
    "\n",
    "The Spearman correlation evaluates the monotonic relationship between 2 variables.\n",
    "\n",
    "Linearity is not essential.\n",
    "\n",
    "A monotonic relationship between 2 variables implies one of two situations:\n",
    "\n",
    "- (Situation 1) As the value of one variable increases, so does the value of the other variable, OR,\n",
    "\n",
    "- (Situation 2) As the value of one variable increases, the other variable value decreases.\n",
    "\n",
    "Not necessarily at a constant rate.\n",
    "\n",
    "\n",
    "### Pearson 'r' coefficient\n",
    "The Pearson correlation coefficient (r) is an indicator of how strong a linear correlation between 2 variables is.\n",
    "\n",
    "It can take values between -1 and 1.\n",
    "\n",
    "\n",
    "#### To compute these oefficients, we need to import scipy:\n",
    "\n",
    "conda install scipy"
   ]
  },
  {
   "cell_type": "code",
   "execution_count": 5,
   "id": "36575365",
   "metadata": {},
   "outputs": [],
   "source": [
    "import scipy.stats as st"
   ]
  },
  {
   "cell_type": "code",
   "execution_count": 6,
   "id": "da8f6744",
   "metadata": {},
   "outputs": [
    {
     "name": "stdout",
     "output_type": "stream",
     "text": [
      "Spearman:\n",
      " SignificanceResult(statistic=0.9999999999999999, pvalue=6.646897422032013e-64)\n",
      "Pearson:\n",
      " PearsonRResult(statistic=0.9967647822032425, pvalue=4.774249416992818e-10)\n"
     ]
    }
   ],
   "source": [
    "# Let's calculate these coefficients\n",
    "\n",
    "# 1. Spearman coefficient\n",
    "sp = st.spearmanr(pages, thick)\n",
    "\n",
    "# 2. Pearson coefficient\n",
    "pe = st.pearsonr(pages, thick)\n",
    "\n",
    "print(\"Spearman:\\n\", sp)\n",
    "\n",
    "print(\"Pearson:\\n\", pe)\n"
   ]
  },
  {
   "cell_type": "markdown",
   "id": "5ced1e8f",
   "metadata": {},
   "source": [
    "### Linear regression\n",
    "\n",
    "We usually need a model when we want to perform a regression. In this case, it is reasonable to use a line since we expect the number of pages and the tickness are linearly correlated.\n",
    "\n",
    "Our model is then:\n",
    "\n",
    "$thickness = m(pages) + b$\n",
    "\n",
    "\n",
    "Note that $m$ and $b$ have units of $mm/page$ and $mm$, respectively."
   ]
  },
  {
   "cell_type": "markdown",
   "id": "e99bf7c7",
   "metadata": {},
   "source": [
    "## Method 1. Using np.polyfit()\n",
    "\n",
    "np.polyfit() returns the coefficients $m$ and $b$.\n",
    "See the documentation here:\n",
    "\n",
    "https://numpy.org/doc/stable/reference/generated/numpy.polyfit.html"
   ]
  },
  {
   "cell_type": "code",
   "execution_count": 7,
   "id": "12d75286",
   "metadata": {},
   "outputs": [],
   "source": [
    "# Get coeffcients - best fit parameters (LM method)\n",
    "\n",
    "m, b = np.polyfit(pages, thick, 1)"
   ]
  },
  {
   "cell_type": "code",
   "execution_count": 8,
   "id": "a536a66f",
   "metadata": {},
   "outputs": [
    {
     "name": "stdout",
     "output_type": "stream",
     "text": [
      "slope = 0.10793939393939396  intercept= 2.313333333333331\n"
     ]
    }
   ],
   "source": [
    "# Print to check\n",
    "\n",
    "print('slope =', m, ' intercept=', b)"
   ]
  },
  {
   "cell_type": "code",
   "execution_count": 9,
   "id": "18c61022",
   "metadata": {},
   "outputs": [],
   "source": [
    "# Get fitting function\n",
    "\n",
    "fit_thick = m*pages + b"
   ]
  },
  {
   "cell_type": "code",
   "execution_count": 10,
   "id": "b1f6227c",
   "metadata": {},
   "outputs": [
    {
     "data": {
      "image/png": "[encoded data removed]",
      "text/plain": [
       "<Figure size 400x300 with 1 Axes>"
      ]
     },
     "metadata": {},
     "output_type": "display_data"
    }
   ],
   "source": [
    "# replot  the data with the fit\n",
    "\n",
    "# Figure environment\n",
    "plt.figure(figsize = (4,3))\n",
    "\n",
    "plt.title(\"Regression with polyfit\")\n",
    "plt.plot(pages, thick, color = \"magenta\", marker = \"+\",\\\n",
    "        linestyle = \" \", label = \"thickness vs. pages\")\n",
    "\n",
    "plt.plot(pages, fit_thick, color = \"blue\",\\\n",
    "        linestyle = \"-\", label = \"best fit line\")\n",
    "\n",
    "# Customisation\n",
    "plt.xlabel(\"Pages [# pages]\")\n",
    "plt.ylabel(\"Thickness [mm]\")\n",
    "plt.legend()\n",
    "\n",
    "plt.show()"
   ]
  },
  {
   "cell_type": "markdown",
   "id": "08da8a4f",
   "metadata": {},
   "source": [
    "## Method 2. Using Scipy functions\n",
    "The function curve_fit() from the scipy.optimize package can be used.\n",
    "\n",
    "See documentation here: https://docs.scipy.org/doc/scipy/reference/generated/scipy.optimize.curve_fit.html"
   ]
  },
  {
   "cell_type": "code",
   "execution_count": 11,
   "id": "413af044",
   "metadata": {},
   "outputs": [],
   "source": [
    "# Import the scipy library\n",
    "import scipy.optimize as opt"
   ]
  },
  {
   "cell_type": "code",
   "execution_count": 12,
   "id": "ac951406",
   "metadata": {},
   "outputs": [],
   "source": [
    "# Define the model function to fit the data\n",
    "\n",
    "def fit_model(x_values, m, b):\n",
    "    \"\"\"\n",
    "    Function to define model to fut experimental data.\n",
    "    In this case we use a linear polynomial\n",
    "    Inputs: x_values (data vector), m -> slope, b -> intercept with Y-axis\n",
    "    Output: y_values (linear finction)\n",
    "    \"\"\"\n",
    "    y_values = m * x_values + b\n",
    "    \n",
    "    return y_values\n"
   ]
  },
  {
   "cell_type": "code",
   "execution_count": 13,
   "id": "5342854f",
   "metadata": {},
   "outputs": [
    {
     "name": "stdout",
     "output_type": "stream",
     "text": [
      "[0.10793939 2.31333333]\n",
      "<class 'numpy.ndarray'>\n",
      "thickness = 0.10794 * pages + 2.31333\n",
      "[[ 9.46923799e-06 -5.20808091e-04]\n",
      " [-5.20808091e-04  3.64565662e-02]]\n"
     ]
    }
   ],
   "source": [
    "# Call the curve_fit() function\n",
    "coef, cova = opt.curve_fit(fit_model, pages, thick)\n",
    "\n",
    "# Double check\n",
    "print(coef) # The fitting parameters (optimal)\n",
    "print(type(coef)) # We got numpy arrays\n",
    "\n",
    "# Print result:\n",
    "print('thickness = %.5f * pages + %.5f' % (coef[0], coef[1]))\n",
    "\n",
    "print(cova) # Covariance matrix"
   ]
  },
  {
   "cell_type": "code",
   "execution_count": 14,
   "id": "2fcb1a80",
   "metadata": {},
   "outputs": [
    {
     "name": "stdout",
     "output_type": "stream",
     "text": [
      "[0.10793939 2.31333333]\n",
      "0.10793939393744811\n",
      "2.3133333333362254\n",
      "0.10793939393744811 2.3133333333362254\n"
     ]
    }
   ],
   "source": [
    "print(coef) # The fitting parameters (optimal)\n",
    "\n",
    "# Use indexing\n",
    "print(coef[0])\n",
    "print(coef[1])\n",
    "\n",
    "print(*coef)"
   ]
  },
  {
   "cell_type": "code",
   "execution_count": 15,
   "id": "a1e8af75",
   "metadata": {},
   "outputs": [],
   "source": [
    "# Define the fitting data\n",
    "#fit_thick2 = fit_model(pages, coef[0], coef[1])\n",
    "\n",
    "# Another way to get the fit data\n",
    "fit_thick2 = fit_model(pages, *coef)"
   ]
  },
  {
   "cell_type": "code",
   "execution_count": 16,
   "id": "7ffd197a-5bee-410a-8b79-0cc1c2de59d6",
   "metadata": {},
   "outputs": [
    {
     "data": {
      "image/png": "[encoded data removed]",
      "text/plain": [
       "<Figure size 800x300 with 1 Axes>"
      ]
     },
     "metadata": {},
     "output_type": "display_data"
    }
   ],
   "source": [
    "# replot the data with the new fit\n",
    "\n",
    "# Figure environment\n",
    "plt.figure(figsize = (8,3))\n",
    "\n",
    "plt.title(\"Regression with scipy's curve_fit\")\n",
    "\n",
    "plt.plot(pages, thick, color = \"magenta\", marker = \"+\",\\\n",
    "        linestyle = \" \", label = \"thickness vs. pages\")\n",
    "\n",
    "plt.plot(pages, fit_thick2, color = \"green\",\\\n",
    "        linestyle = \"-\", label = 'thickness = %.5f * pages + %.5f' % (coef[0], coef[1]))\n",
    "\n",
    "# Customisation\n",
    "plt.xlabel(\"Pages [# pages]\")\n",
    "plt.ylabel(\"Thickness [mm]\")\n",
    "plt.legend()\n",
    "\n",
    "plt.show()"
   ]
  },
  {
   "cell_type": "markdown",
   "id": "d20fff12-939d-4e53-b675-b2408e58aa02",
   "metadata": {},
   "source": [
    "### Compute $1\\sigma$ errors on the parameters\n",
    "\n",
    "We can use:\n",
    "\n",
    "perr = np.sqrt(np.diag(pcov))"
   ]
  },
  {
   "cell_type": "code",
   "execution_count": 17,
   "id": "adf2e33b-85ec-4908-83e3-9012078483e0",
   "metadata": {},
   "outputs": [
    {
     "name": "stdout",
     "output_type": "stream",
     "text": [
      "[[ 9.46923799e-06 -5.20808091e-04]\n",
      " [-5.20808091e-04  3.64565662e-02]]\n",
      "(2, 2)\n"
     ]
    }
   ],
   "source": [
    "print(cova)\n",
    "print(cova.shape)"
   ]
  },
  {
   "cell_type": "code",
   "execution_count": 18,
   "id": "bc630afb-d877-4139-88de-0bad22068f20",
   "metadata": {},
   "outputs": [
    {
     "name": "stdout",
     "output_type": "stream",
     "text": [
      "Error in m is 0.00308\n",
      "Error in b is 0.19094\n",
      "\n",
      "\n",
      "thickness = (0.10794 +/- 0.00308) * pages + (2.31333 +/- 0.19094)\n"
     ]
    }
   ],
   "source": [
    "# Compute the errors\n",
    "\n",
    "err= np.sqrt(np.diag(cova))\n",
    "\n",
    "print(\"Error in m is %.5f\" % (err[0]))\n",
    "print(\"Error in b is %.5f\" % (err[1]))\n",
    "print(\"\\n\")\n",
    "# Print result:\n",
    "print('thickness = (%.5f +/- %.5f) * pages + (%.5f +/- %.5f)' % (coef[0], err[0], coef[1], err[1]))"
   ]
  },
  {
   "cell_type": "code",
   "execution_count": 19,
   "id": "4c36627a",
   "metadata": {},
   "outputs": [],
   "source": [
    "# Define the model function to fit the data\n",
    "\n",
    "def fit_model2(x_values, m):\n",
    "    \"\"\"\n",
    "    Function to define model to fut experimental data.\n",
    "    In this case we use a linear polynomial\n",
    "    Inputs: x_values (data vector), m -> slope\n",
    "    Output: y_values (linear finction)\n",
    "    \"\"\"\n",
    "    y_values = m * x_values\n",
    "    \n",
    "    return y_values"
   ]
  },
  {
   "cell_type": "code",
   "execution_count": 20,
   "id": "d34582e6",
   "metadata": {},
   "outputs": [
    {
     "name": "stdout",
     "output_type": "stream",
     "text": [
      "thickness = 0.14099 * pages\n"
     ]
    }
   ],
   "source": [
    "# Call the curve_fit() function\n",
    "coef2, cova2 = opt.curve_fit(fit_model2, pages, thick)\n",
    "\n",
    "# Double check\n",
    "#print(cova2) # Covariance matrix\n",
    "#print(coef2) # The fitting parameters (optimal)\n",
    "#print(type(coef2)) # We got numpy arrays\n",
    "\n",
    "# Print result:\n",
    "print('thickness = %.5f * pages' % (coef2[0]))"
   ]
  },
  {
   "cell_type": "code",
   "execution_count": 21,
   "id": "ec7e7c6e-d1e6-4550-a1b6-7199f69a658f",
   "metadata": {},
   "outputs": [
    {
     "name": "stdout",
     "output_type": "stream",
     "text": [
      "[0.10793939 2.31333333] <class 'numpy.ndarray'> 2\n",
      "0.10793939393744811 2.3133333333362254\n",
      "0.10793939393744811 2.3133333333362254\n"
     ]
    }
   ],
   "source": [
    "print(coef, type(coef), len(coef))\n",
    "\n",
    "print(coef[0], coef[1])\n",
    "print(*coef)"
   ]
  },
  {
   "cell_type": "code",
   "execution_count": 22,
   "id": "7151fc3f",
   "metadata": {},
   "outputs": [],
   "source": [
    "# Define the fitting data\n",
    "#fit_thick3 = fit_model(pages, coef[0])\n",
    "\n",
    "# Another way to get the fit data\n",
    "fit_thick3 = fit_model2(pages, *coef2)"
   ]
  },
  {
   "cell_type": "code",
   "execution_count": 23,
   "id": "4da22529",
   "metadata": {},
   "outputs": [
    {
     "data": {
      "image/png": "[encoded data removed]",
      "text/plain": [
       "<Figure size 400x300 with 1 Axes>"
      ]
     },
     "metadata": {},
     "output_type": "display_data"
    }
   ],
   "source": [
    "# replot the data with the new fit\n",
    "\n",
    "# Figure environment\n",
    "plt.figure(figsize = (4,3))\n",
    "\n",
    "plt.title(\"Regression with scipy's curve_fit\")\n",
    "\n",
    "plt.plot(pages, thick, color = \"magenta\", marker = \"+\",\\\n",
    "        linestyle = \" \", label = \"thickness vs. pages\")\n",
    "\n",
    "plt.plot(pages, fit_thick2, color = \"green\",\\\n",
    "        linestyle = \"-\", label = \"best fit line 2\")\n",
    "\n",
    "plt.plot(pages, fit_thick3, color = \"brown\",\\\n",
    "        linestyle = \"-.\", label = \"best fit line 3\")\n",
    "\n",
    "# Customisation\n",
    "plt.xlabel(\"Pages [# pages]\")\n",
    "plt.ylabel(\"Thickness [mm]\")\n",
    "plt.legend()\n",
    "\n",
    "plt.show()"
   ]
  },
  {
   "cell_type": "markdown",
   "id": "750a79a9",
   "metadata": {},
   "source": [
    "## Example 2: Free-fall experiment:\n",
    "\n",
    "We wish to measure the acceleration of gravity based on data from a free-fall experiment in which we drop an object and measure the time it takes for it to reach different distanteces. The object starts from rest.\n",
    "\n",
    "Data file: https://github.com/wbandabarragan/physics-teaching-data/blob/main/1D-data/data_freefall.csv"
   ]
  },
  {
   "cell_type": "code",
   "execution_count": 24,
   "id": "afd69185-7f1e-435e-8f1a-5caa0f950272",
   "metadata": {},
   "outputs": [
    {
     "name": "stdout",
     "output_type": "stream",
     "text": [
      "Time (s),Position (m)\n",
      "0.0,0.0\n",
      "0.5,2.0\n",
      "1.0,5.2\n",
      "1.5,9.8\n",
      "2.0,19.7\n",
      "2.5,31.2\n",
      "3.0,44.4\n",
      "3.5,57.8\n",
      "4.0,80.8\n",
      "4.5,100.4\n",
      "5.0,121.1"
     ]
    }
   ],
   "source": [
    "!cat data_freefall.csv"
   ]
  },
  {
   "cell_type": "code",
   "execution_count": 25,
   "id": "257ef81a",
   "metadata": {},
   "outputs": [
    {
     "name": "stdout",
     "output_type": "stream",
     "text": [
      "    Time (s)  Position (m)\n",
      "0        0.0           0.0\n",
      "1        0.5           2.0\n",
      "2        1.0           5.2\n",
      "3        1.5           9.8\n",
      "4        2.0          19.7\n",
      "5        2.5          31.2\n",
      "6        3.0          44.4\n",
      "7        3.5          57.8\n",
      "8        4.0          80.8\n",
      "9        4.5         100.4\n",
      "10       5.0         121.1\n"
     ]
    }
   ],
   "source": [
    "# Use pandas to open the file and place the data into a DF\n",
    "\n",
    "df_freefall = pd.read_csv(\"./data_freefall.csv\", sep = \",\")\n",
    "\n",
    "print(df_freefall)"
   ]
  },
  {
   "cell_type": "code",
   "execution_count": 26,
   "id": "09d119f1",
   "metadata": {},
   "outputs": [
    {
     "name": "stdout",
     "output_type": "stream",
     "text": [
      "[  0.    2.    5.2   9.8  19.7  31.2  44.4  57.8  80.8 100.4 121.1] [0.  0.5 1.  1.5 2.  2.5 3.  3.5 4.  4.5 5. ]\n"
     ]
    }
   ],
   "source": [
    "# Place the data into numpy arrays\n",
    "\n",
    "time = np.array(df_freefall[\"Time (s)\"])\n",
    "ypos = np.array(df_freefall[\"Position (m)\"])\n",
    "\n",
    "print(ypos, time)"
   ]
  },
  {
   "cell_type": "markdown",
   "id": "6c3562ed",
   "metadata": {},
   "source": [
    "### Plotting:"
   ]
  },
  {
   "cell_type": "code",
   "execution_count": 27,
   "id": "93d96cea",
   "metadata": {},
   "outputs": [
    {
     "data": {
      "image/png": "[encoded data removed]",
      "text/plain": [
       "<Figure size 400x300 with 1 Axes>"
      ]
     },
     "metadata": {},
     "output_type": "display_data"
    }
   ],
   "source": [
    "# Fig env:\n",
    "\n",
    "plt.figure(figsize=(4,3))\n",
    "\n",
    "plt.plot(time, ypos, color = \"black\", marker = \"x\", linestyle = \" \", label = \"Free Fall\")\n",
    "\n",
    "plt.xlabel(r\"$t\\,\\rm [s]$\")\n",
    "plt.ylabel(r\"$y\\,\\rm [m]$\")\n",
    "\n",
    "plt.legend()\n",
    "\n",
    "plt.show()"
   ]
  },
  {
   "cell_type": "code",
   "execution_count": 28,
   "id": "d94e56f6",
   "metadata": {},
   "outputs": [
    {
     "name": "stdout",
     "output_type": "stream",
     "text": [
      "Spearman:\n",
      " SignificanceResult(statistic=1.0, pvalue=0.0)\n",
      "Pearson:\n",
      " 0.9267708692052784\n"
     ]
    }
   ],
   "source": [
    "# Let's calculate these coefficients\n",
    "\n",
    "# 1. Spearman coefficient\n",
    "sp = st.spearmanr(time, ypos)\n",
    "\n",
    "# 2. Pearson coefficient\n",
    "pe = st.pearsonr(time, ypos)\n",
    "\n",
    "print(\"Spearman:\\n\", sp)\n",
    "\n",
    "print(\"Pearson:\\n\", float(pe[0])**2)"
   ]
  },
  {
   "cell_type": "markdown",
   "id": "c091fbe8",
   "metadata": {},
   "source": [
    "### 1st Approach:\n",
    "\n",
    "We need a physically-motivated model;\n",
    "\n",
    "$$y = \\alpha\\,t^2$$\n",
    "\n",
    "where $\\alpha= \\frac{g}{2}$"
   ]
  },
  {
   "cell_type": "markdown",
   "id": "f0247bd1",
   "metadata": {},
   "source": [
    "## Scipy regression:"
   ]
  },
  {
   "cell_type": "code",
   "execution_count": 29,
   "id": "aa65d301",
   "metadata": {},
   "outputs": [],
   "source": [
    "# Define our regression model\n",
    "\n",
    "def fit_mruv(t_values, alpha):\n",
    "    \"\"\"\n",
    "    Parabolic model with 1 free parameter.\n",
    "    Inputs: t_values are the times, alpha = gravity/2\n",
    "    Output: y_values\n",
    "    \"\"\"\n",
    "    y_values = alpha*t_values**2\n",
    "    \n",
    "    return y_values"
   ]
  },
  {
   "cell_type": "code",
   "execution_count": 30,
   "id": "af9b7cc6",
   "metadata": {},
   "outputs": [
    {
     "name": "stdout",
     "output_type": "stream",
     "text": [
      "y = 4.90276 * time^2\n",
      "g = 9.80552\n"
     ]
    }
   ],
   "source": [
    "# Call the curve_fit function using our model\n",
    "\n",
    "coef, cova = opt.curve_fit(fit_mruv, time, ypos)\n",
    "\n",
    "# Print result:\n",
    "print('y = %.5f * time^2' % (coef[0]))\n",
    "print('g = %.5f' % (coef[0]*2))"
   ]
  },
  {
   "cell_type": "markdown",
   "id": "50224a24",
   "metadata": {},
   "source": [
    "### Regression result:"
   ]
  },
  {
   "cell_type": "code",
   "execution_count": 31,
   "id": "8423479d",
   "metadata": {},
   "outputs": [],
   "source": [
    "# Evaluate the time using our regression model and alpha\n",
    "\n",
    "ypos_fit = fit_mruv(time, *coef)\n"
   ]
  },
  {
   "cell_type": "code",
   "execution_count": 32,
   "id": "38fecfa1",
   "metadata": {},
   "outputs": [
    {
     "data": {
      "image/png": "[encoded data removed]",
      "text/plain": [
       "<Figure size 400x300 with 1 Axes>"
      ]
     },
     "metadata": {},
     "output_type": "display_data"
    }
   ],
   "source": [
    "# Fig env:\n",
    "\n",
    "plt.figure(figsize=(4,3))\n",
    "\n",
    "plt.plot(time, ypos, color = \"black\", marker = \"x\", linestyle = \" \", label = \"Free Fall\")\n",
    "\n",
    "plt.plot(time, ypos_fit, color = \"red\", linestyle = \"-\", label = \"Best fit\")\n",
    "\n",
    "plt.xlabel(r\"$t\\,\\rm [s]$\")\n",
    "plt.ylabel(r\"$y\\,\\rm [m]$\")\n",
    "\n",
    "plt.legend()\n",
    "\n",
    "plt.show()"
   ]
  },
  {
   "cell_type": "markdown",
   "id": "f7f28f86",
   "metadata": {},
   "source": [
    "### Calculation of the acceleration of gravity:\n",
    "\n",
    "$$\\alpha = \\frac{g}{2}$$"
   ]
  },
  {
   "cell_type": "code",
   "execution_count": 33,
   "id": "b4f9cf3a",
   "metadata": {},
   "outputs": [
    {
     "name": "stdout",
     "output_type": "stream",
     "text": [
      "g = 9.80552 m/s^2\n"
     ]
    }
   ],
   "source": [
    "# Calculate g\n",
    "\n",
    "grav = coef[0]*2\n",
    "\n",
    "# Print result:\n",
    "print('g = %.5f m/s^2' % (grav))"
   ]
  },
  {
   "cell_type": "code",
   "execution_count": 34,
   "id": "1205f7ab-78eb-4c37-a296-470953bc2710",
   "metadata": {},
   "outputs": [
    {
     "name": "stdout",
     "output_type": "stream",
     "text": [
      "<class 'numpy.ndarray'>\n"
     ]
    }
   ],
   "source": [
    "print(type(cova))"
   ]
  },
  {
   "cell_type": "code",
   "execution_count": 35,
   "id": "bd6a6faf-3333-47fd-a404-dbf2b580bbfc",
   "metadata": {},
   "outputs": [
    {
     "name": "stdout",
     "output_type": "stream",
     "text": [
      "0.06487810029301236\n"
     ]
    }
   ],
   "source": [
    "# Get the errors\n",
    "grav_err = np.sqrt(np.diag(cova))[0]*2.\n",
    "print(grav_err)"
   ]
  },
  {
   "cell_type": "code",
   "execution_count": 36,
   "id": "84ce5324-d739-4693-a340-ea24e94512d8",
   "metadata": {},
   "outputs": [
    {
     "name": "stdout",
     "output_type": "stream",
     "text": [
      "g = (9.80552 +/- 0.06488) m/s^2\n"
     ]
    }
   ],
   "source": [
    "# Print final result:\n",
    "print('g = (%.5f +/- %.5f) m/s^2' % (grav, grav_err))"
   ]
  },
  {
   "cell_type": "markdown",
   "id": "47a49a5e-fe49-4c5c-85ec-51034f4d63c1",
   "metadata": {},
   "source": [
    "## Goodness of fit test (Kolmogorov-Smirnov KS test):\n",
    "\n",
    "- The KS test is designed to compare two independent data samples. In this case, your two samples will be your original experimental data and the data generated by your best-fit line.\n",
    "\n",
    "- The ``scipy.stats.ks_2samp`` function takes two arrays as input and returns a ``KstestResult`` object, which contains the KS statistic and the p-value.\n",
    "\n",
    "- The KS statistic measures the maximum distance between the cumulative distribution functions (CDFs) of the two samples. \n",
    "\n",
    "- The p-value indicates the probability that the two samples were drawn from the same distribution (null hypothesis). The p-value is the probability of obtaining results at least as extreme as the observed data, assuming the null hypothesis is true. If the p-value is high (typically >0.05), you do NOT reject the null hypothesis, meaning the samples are likely from the same distribution. If the p-value is low (below the significance level), you reject the null hypothesis (i.e. it indicates that the two samples are significantly different).\n",
    "\n",
    "#### Reference: https://docs.scipy.org/doc/scipy/reference/generated/scipy.stats.ks_2samp.html\n"
   ]
  },
  {
   "cell_type": "code",
   "execution_count": 37,
   "id": "1bf84570-a5bd-4a1a-ad40-2dfc94da592b",
   "metadata": {},
   "outputs": [],
   "source": [
    "import scipy as sp"
   ]
  },
  {
   "cell_type": "markdown",
   "id": "8045046c-ded1-4f6b-9844-2105277739ae",
   "metadata": {},
   "source": [
    "### For example 1 on the books:"
   ]
  },
  {
   "cell_type": "code",
   "execution_count": 38,
   "id": "cf3ab574-6321-4e97-9684-8db7585426e3",
   "metadata": {},
   "outputs": [],
   "source": [
    "# Cumulative distribvution functions (CDF)\n",
    "thick_st = np.sort(thick)\n",
    "fit_thick2_st = np.sort(fit_thick2)\n",
    "\n",
    "# CDFs\n",
    "thick_cdf = np.arange(1, len(thick_st) + 1)/len(thick_st) \n",
    "fit_thick2_cdf = np.arange(1, len(fit_thick2_st) + 1)/len(fit_thick2_st) "
   ]
  },
  {
   "cell_type": "code",
   "execution_count": 39,
   "id": "75eb2d4e-b378-43b2-bafd-fee4f32ab5c7",
   "metadata": {},
   "outputs": [
    {
     "data": {
      "image/png": "[encoded data removed]",
      "text/plain": [
       "<Figure size 800x300 with 1 Axes>"
      ]
     },
     "metadata": {},
     "output_type": "display_data"
    }
   ],
   "source": [
    "# Plotting the CDFs\n",
    "plt.figure(figsize=(8,3))\n",
    "\n",
    "plt.step(thick_st, thick_cdf)\n",
    "plt.step(fit_thick2_st, fit_thick2_cdf)\n",
    "\n",
    "plt.ylim(0,1.1)\n",
    "plt.xlabel(\"Thickness\")\n",
    "plt.show()"
   ]
  },
  {
   "cell_type": "code",
   "execution_count": 40,
   "id": "72af347f-0b89-47e1-a434-59d965d25ad1",
   "metadata": {},
   "outputs": [
    {
     "name": "stdout",
     "output_type": "stream",
     "text": [
      "KS value is: 0.1\n",
      "p-value is: 1.0\n"
     ]
    }
   ],
   "source": [
    "ks_value, p_value = sp.stats.ks_2samp(thick, fit_thick2)\n",
    "\n",
    "print(\"KS value is:\", ks_value)\n",
    "print(\"p-value is:\", p_value)"
   ]
  },
  {
   "cell_type": "markdown",
   "id": "7d4a1d04-94f5-439e-9cd2-07054ac15175",
   "metadata": {},
   "source": [
    "### For example 2 on the free-fall experiment :"
   ]
  },
  {
   "cell_type": "code",
   "execution_count": 41,
   "id": "9ecc9995-e0f0-491a-8d3f-3d0dd75ad4de",
   "metadata": {},
   "outputs": [
    {
     "name": "stdout",
     "output_type": "stream",
     "text": [
      "KS value is: 0.09090909090909091\n",
      "p-value is: 0.9999999999999999\n"
     ]
    }
   ],
   "source": [
    "ks_value, p_value = sp.stats.ks_2samp(ypos, ypos_fit)\n",
    "\n",
    "print(\"KS value is:\", ks_value)\n",
    "print(\"p-value is:\", p_value)"
   ]
  },
  {
   "cell_type": "markdown",
   "id": "fa9806e0",
   "metadata": {},
   "source": [
    "## Example 3: Fitting spectral lines (advanced)\n",
    "\n",
    "In this exercise we will be fitting Gaussian functions to spectral lines of the $\\rm H_I$ transition of the Hydrogen atom. This is a forbidden transition that occurs as a result of its hyperfine structure.\n",
    "\n",
    "\n",
    "Let us assume the spin of the p+ is down, then the $\\rm H_I$ transition occurs when the spin of the electron flips from up to down (i.e. when going from anti-parallel to parallel). The spin up configuration has a slightly higher energy than the spin down because the magnetic dipole moments are parallel, so when it flips it releases a low-energy photon and goes into the spin down configuration, which has lower energy as the the magnetic dipole moments are anti-parallel.\n",
    "\n",
    "\n",
    "**And some nice extra details from Wikipedia:**\n",
    "\n",
    "\"This transition is highly forbidden with an extremely small transition rate of $2.9\\times 10^{-15}\\,\\rm s^{-1}$ and a mean lifetime of the excited state of around 10 million years. A spontaneous occurrence of the transition is unlikely to be seen in a laboratory on Earth, but it can be artificially induced using a hydrogen maser. It is commonly observed in astronomical settings such as hydrogen clouds in our galaxy and others. Because of its long lifetime, the line has an extremely small natural width, so most broadening is due to Doppler shifts caused by bulk motion or nonzero temperature of the emitting regions.\"\n",
    "\n",
    "The transition.\n",
    "\n",
    "\n",
    "- At 21 cm, 1.4 GHz.\n",
    "\n",
    "\n",
    "- The data are taken from the GASS survey (shared via private communication).\n",
    "\n",
    "\n",
    "- This survey uses the Parkes telescopes in Australia.\n",
    "\n",
    "\n",
    "If you are interested in more information, I am leaving the links below:\n",
    "\n",
    "Parkes: https://www.parkes.atnf.csiro.au/\n",
    "\n",
    "\n",
    "Datafile: https://github.com/wbandabarragan/physics-teaching-data/blob/main/1D-data/104444.9-264831_gass_spectrum.txt"
   ]
  },
  {
   "cell_type": "markdown",
   "id": "9cd453fc",
   "metadata": {},
   "source": [
    "## 1. Data I/O:"
   ]
  },
  {
   "cell_type": "code",
   "execution_count": 42,
   "id": "3e05a00e",
   "metadata": {},
   "outputs": [
    {
     "name": "stdout",
     "output_type": "stream",
     "text": [
      "       velocity        Tb\n",
      "0   -494.424011 -0.004997\n",
      "1   -490.500011  0.010002\n",
      "2   -486.576011  0.017502\n",
      "3   -482.652011  0.027504\n",
      "4   -478.728011 -0.014999\n",
      "..          ...       ...\n",
      "248  478.727995  0.002502\n",
      "249  482.651995 -0.012497\n",
      "250  486.575995  0.007500\n",
      "251  490.499995 -0.017502\n",
      "252  494.423995 -0.044998\n",
      "\n",
      "[253 rows x 2 columns]\n"
     ]
    }
   ],
   "source": [
    "# Let's place the data into a pandas DF\n",
    "\n",
    "h1_df = pd.read_csv(\"./104444.9-264831_gass_spectrum.txt\", sep = \"\\s+\")\n",
    "\n",
    "print(h1_df)"
   ]
  },
  {
   "cell_type": "code",
   "execution_count": 43,
   "id": "a39e152f",
   "metadata": {},
   "outputs": [],
   "source": [
    "# Place the data columsn into arrays\n",
    "\n",
    "h1_vel = np.array(h1_df[\"velocity\"])\n",
    "h1_int = np.array(h1_df[\"Tb\"])\n",
    "\n",
    "#print(h1_int)"
   ]
  },
  {
   "cell_type": "markdown",
   "id": "ca041e50",
   "metadata": {},
   "source": [
    "## 2. Data inspection:"
   ]
  },
  {
   "cell_type": "code",
   "execution_count": 44,
   "id": "8638f51b",
   "metadata": {},
   "outputs": [
    {
     "data": {
      "image/png": "[encoded data removed]",
      "text/plain": [
       "<Figure size 500x300 with 1 Axes>"
      ]
     },
     "metadata": {},
     "output_type": "display_data"
    }
   ],
   "source": [
    "# Plotting: figure environment\n",
    "\n",
    "plt.figure(figsize=(5,3))\n",
    "\n",
    "plt.plot(h1_vel, h1_int, label = \"21 cm line\")\n",
    "\n",
    "plt.legend()\n",
    "\n",
    "plt.xlabel(r\"$v\\,\\rm [km\\,s^{-1}]$\")\n",
    "plt.ylabel(r\"$T_b\\,\\rm [K]$\")\n",
    "\n",
    "plt.show()"
   ]
  },
  {
   "cell_type": "code",
   "execution_count": 45,
   "id": "cf99bf5e",
   "metadata": {},
   "outputs": [
    {
     "data": {
      "image/png": "[encoded data removed]",
      "text/plain": [
       "<Figure size 400x300 with 1 Axes>"
      ]
     },
     "metadata": {},
     "output_type": "display_data"
    }
   ],
   "source": [
    "# Plotting: figure environment\n",
    "\n",
    "plt.figure(figsize=(4,3))\n",
    "\n",
    "plt.plot(h1_vel, h1_int, label = \"21 cm line\")\n",
    "\n",
    "plt.legend()\n",
    "\n",
    "plt.xlabel(r\"$v\\,\\rm [km\\,s^{-1}]$\")\n",
    "plt.ylabel(r\"$T_b\\,\\rm [K]$\")\n",
    "\n",
    "plt.xlim(-50, +50)\n",
    "\n",
    "plt.show()"
   ]
  },
  {
   "cell_type": "markdown",
   "id": "34042bb2",
   "metadata": {},
   "source": [
    "# A: First attempt\n",
    "\n",
    "## 2. Regression model (1 Gaussian - bad model):\n",
    "\n",
    "$$f(x) = a \\exp\\left( -b\\,(x + c)^2 \\right)$$\n"
   ]
  },
  {
   "cell_type": "code",
   "execution_count": 46,
   "id": "d0b21c0f",
   "metadata": {},
   "outputs": [],
   "source": [
    "# Function for the Gaussian\n",
    "\n",
    "def one_gaussian(x, a, b, c):\n",
    "    \"\"\"\n",
    "    This defnes a 1-Gaussian model for the regression.\n",
    "    This may not be the best model because we see 2 components.\n",
    "    Inputs: x-> velocity vector, a in the height of the Gaussian,\n",
    "            b-> is the width, c -> displacement\n",
    "    Output: y -> 1D 1-Gaussian model\n",
    "    \"\"\"\n",
    "    \n",
    "    # 1D Gaussian\n",
    "    y = a*np.exp(-b*(x + c)**2)\n",
    "    \n",
    "    return y"
   ]
  },
  {
   "cell_type": "markdown",
   "id": "7ce69cea",
   "metadata": {},
   "source": [
    "## 3. Optimisation using curve_fit:\n",
    "\n",
    "- This step will tells us the values of a, b, and c that best fit the data."
   ]
  },
  {
   "cell_type": "code",
   "execution_count": 47,
   "id": "51dbf6e3",
   "metadata": {},
   "outputs": [
    {
     "name": "stdout",
     "output_type": "stream",
     "text": [
      "Best-fit values are:\n",
      " [17.28888351  0.02146926  5.34294189]\n",
      "The covariance matrix is:\n",
      " [[1.85376739e-01 3.06952782e-04 1.99793058e-06]\n",
      " [3.06952782e-04 1.52459486e-06 9.25827945e-09]\n",
      " [1.99793058e-06 9.25827945e-09 1.92585518e-02]]\n"
     ]
    },
    {
     "name": "stderr",
     "output_type": "stream",
     "text": [
      "/var/folders/lk/z3g6vdb52msdt9x8k77krt080000gn/T/ipykernel_60958/3295229245.py:13: RuntimeWarning: overflow encountered in exp\n",
      "  y = a*np.exp(-b*(x + c)**2)\n"
     ]
    }
   ],
   "source": [
    "# Regression with curve_fit\n",
    "\n",
    "coef, cova = opt.curve_fit(one_gaussian, h1_vel, h1_int)\n",
    "\n",
    "print(\"Best-fit values are:\\n\", coef)\n",
    "\n",
    "print(\"The covariance matrix is:\\n\", cova)"
   ]
  },
  {
   "cell_type": "markdown",
   "id": "06c639ac",
   "metadata": {},
   "source": [
    "### Regression uncertainties"
   ]
  },
  {
   "cell_type": "code",
   "execution_count": 48,
   "id": "1f685a8e",
   "metadata": {},
   "outputs": [
    {
     "name": "stdout",
     "output_type": "stream",
     "text": [
      "The associated uncertainties are:\n",
      " [0.43055399 0.00123474 0.13877518]\n"
     ]
    }
   ],
   "source": [
    "# Calculate uncertainties\n",
    "unc_param = np.sqrt(np.diag(cova))\n",
    "\n",
    "print(\"The associated uncertainties are:\\n\", unc_param)"
   ]
  },
  {
   "cell_type": "markdown",
   "id": "9e23b5e9",
   "metadata": {},
   "source": [
    "## 4. Plot the results:"
   ]
  },
  {
   "cell_type": "code",
   "execution_count": 49,
   "id": "b1f53e34",
   "metadata": {},
   "outputs": [],
   "source": [
    "# Evaluate our models using the best-fit params\n",
    "\n",
    "h1_int_fit = one_gaussian(h1_vel, *coef)"
   ]
  },
  {
   "cell_type": "code",
   "execution_count": 50,
   "id": "a70567f9",
   "metadata": {},
   "outputs": [
    {
     "data": {
      "image/png": "[encoded data removed]",
      "text/plain": [
       "<Figure size 600x300 with 1 Axes>"
      ]
     },
     "metadata": {},
     "output_type": "display_data"
    }
   ],
   "source": [
    "# Figure environment:\n",
    "\n",
    "plt.figure(figsize=(6,3))\n",
    "\n",
    "plt.plot(h1_vel, h1_int, label = \"21 cm line\")\n",
    "\n",
    "# Regression\n",
    "plt.plot(h1_vel, h1_int_fit, color = \"magenta\", label = \"1 Gaussian Regression\")\n",
    "\n",
    "plt.legend()\n",
    "\n",
    "plt.xlabel(r\"$v\\,\\rm [km\\,s^{-1}]$\")\n",
    "plt.ylabel(r\"$T_b\\,\\rm [K]$\")\n",
    "\n",
    "plt.xlim(-50, +50)\n",
    "\n",
    "plt.show()"
   ]
  },
  {
   "cell_type": "markdown",
   "id": "c4d80b74",
   "metadata": {},
   "source": [
    "# B: Second attempt\n",
    "\n",
    "## 2. Regression model (2 Gaussians - good model):\n",
    "\n",
    "$$f(x) = a \\exp\\left( -b\\,(x + c)^2 \\right) + d \\exp\\left( -e\\,(x + f)^2 \\right)$$\n"
   ]
  },
  {
   "cell_type": "code",
   "execution_count": 51,
   "id": "ad8cbd23",
   "metadata": {},
   "outputs": [],
   "source": [
    "# Function for the Gaussian\n",
    "\n",
    "def two_gaussian(x, a, b, c, d, e, f):\n",
    "    \"\"\"\n",
    "    This defines a 2-Gaussian model for the regression.\n",
    "    This may be a good model because we see 2 components.\n",
    "    Inputs: x-> velocity vector, a,d are the heights of the\n",
    "            Gaussians,\n",
    "            b, e-> are the widths,\n",
    "            c, f -> are the displacements\n",
    "    Output: y -> 1D 2-Gaussian model\n",
    "    \"\"\"\n",
    "    \n",
    "    # 2D Gaussians\n",
    "    y = a*np.exp(-b*(x + c)**2) + d*np.exp(-e*(x + f)**2)\n",
    "    \n",
    "    return y"
   ]
  },
  {
   "cell_type": "markdown",
   "id": "95d3b3fa",
   "metadata": {},
   "source": [
    "## 3. Optimisation using curve_fit:\n",
    "\n",
    "- This step will tells us the values of a, b, and c that best fit the data."
   ]
  },
  {
   "cell_type": "code",
   "execution_count": 52,
   "id": "11e9ffdc",
   "metadata": {},
   "outputs": [
    {
     "name": "stdout",
     "output_type": "stream",
     "text": [
      "Best-fit values are:\n",
      " [1.50333118e+01 5.59261976e-02 4.76060347e+00 5.34480760e+00\n",
      " 3.33573089e-03 1.19768024e+01]\n",
      "The covariance matrix is:\n",
      " [[ 1.43335788e-02 -2.35221027e-06  1.77892638e-04 -4.82966048e-03\n",
      "  -1.56373946e-06  1.04165404e-02]\n",
      " [-2.35221027e-06  1.16534040e-06  3.83587645e-06  4.56198555e-05\n",
      "   6.90229853e-09 -1.02060560e-04]\n",
      " [ 1.77892638e-04  3.83587645e-06  6.22394448e-04 -2.67949577e-04\n",
      "  -5.93359139e-07 -8.21538565e-04]\n",
      " [-4.82966048e-03  4.56198555e-05 -2.67949577e-04  5.92454442e-03\n",
      "   3.09881573e-06 -7.00841380e-03]\n",
      " [-1.56373946e-06  6.90229853e-09 -5.93359139e-07  3.09881573e-06\n",
      "   5.70167745e-09 -1.10256106e-06]\n",
      " [ 1.04165404e-02 -1.02060560e-04 -8.21538565e-04 -7.00841380e-03\n",
      "  -1.10256106e-06  3.33723893e-02]]\n"
     ]
    },
    {
     "name": "stderr",
     "output_type": "stream",
     "text": [
      "/var/folders/lk/z3g6vdb52msdt9x8k77krt080000gn/T/ipykernel_60958/227499923.py:15: RuntimeWarning: overflow encountered in exp\n",
      "  y = a*np.exp(-b*(x + c)**2) + d*np.exp(-e*(x + f)**2)\n"
     ]
    }
   ],
   "source": [
    "# Regression with curve_fit\n",
    "\n",
    "coef2, cova2 = opt.curve_fit(two_gaussian, h1_vel, h1_int)\n",
    "\n",
    "print(\"Best-fit values are:\\n\", coef2)\n",
    "\n",
    "print(\"The covariance matrix is:\\n\", cova2)"
   ]
  },
  {
   "cell_type": "markdown",
   "id": "e66e8ad8",
   "metadata": {},
   "source": [
    "### Regression uncertainties\n"
   ]
  },
  {
   "cell_type": "code",
   "execution_count": 53,
   "id": "9af751b5",
   "metadata": {},
   "outputs": [
    {
     "name": "stdout",
     "output_type": "stream",
     "text": [
      "The associated uncertainties are:\n",
      " [1.19722925e-01 1.07950933e-03 2.49478345e-02 7.69710622e-02\n",
      " 7.55094527e-05 1.82681114e-01]\n"
     ]
    }
   ],
   "source": [
    "# Calculate uncertainties\n",
    "unc_param2 = np.sqrt(np.diag(cova2))\n",
    "\n",
    "print(\"The associated uncertainties are:\\n\", unc_param2)"
   ]
  },
  {
   "cell_type": "markdown",
   "id": "390f0cd6",
   "metadata": {},
   "source": [
    "## 4. Plot the results:"
   ]
  },
  {
   "cell_type": "code",
   "execution_count": 54,
   "id": "2737e6f3",
   "metadata": {},
   "outputs": [],
   "source": [
    "# Evaluate our models using the best-fit params\n",
    "\n",
    "h1_int_fit2 = two_gaussian(h1_vel, *coef2)"
   ]
  },
  {
   "cell_type": "code",
   "execution_count": 55,
   "id": "80960fca",
   "metadata": {},
   "outputs": [
    {
     "data": {
      "image/png": "[encoded data removed]",
      "text/plain": [
       "<Figure size 600x300 with 1 Axes>"
      ]
     },
     "metadata": {},
     "output_type": "display_data"
    }
   ],
   "source": [
    "# Figure environment:\n",
    "\n",
    "plt.figure(figsize=(6,3))\n",
    "\n",
    "plt.plot(h1_vel, h1_int, label = \"21 cm line\")\n",
    "\n",
    "# 1st attemp: Regression -> 1 Gaussian\n",
    "plt.plot(h1_vel, h1_int_fit, color = \"magenta\", label = \"1 Gaussian Regression\")\n",
    "\n",
    "\n",
    "# 2nd attemp: Regression -> 2 Gaussians\n",
    "plt.plot(h1_vel, h1_int_fit2, color = \"black\", label = \"2 Gaussian Regression\")\n",
    "\n",
    "\n",
    "plt.legend()\n",
    "\n",
    "plt.xlabel(r\"$v\\,\\rm [km\\,s^{-1}]$\")\n",
    "plt.ylabel(r\"$T_b\\,\\rm [K]$\")\n",
    "\n",
    "plt.xlim(-50, +50)\n",
    "\n",
    "plt.show()"
   ]
  },
  {
   "cell_type": "markdown",
   "id": "6cc22c4c",
   "metadata": {},
   "source": [
    "## 5. Replot with each component separately:"
   ]
  },
  {
   "cell_type": "code",
   "execution_count": 56,
   "id": "40e02936",
   "metadata": {},
   "outputs": [],
   "source": [
    "# Evaluate each Gaussian\n",
    "\n",
    "gaussian_1 = one_gaussian(h1_vel, coef2[0], coef2[1], coef2[2])\n",
    "\n",
    "gaussian_2 = one_gaussian(h1_vel, coef2[3], coef2[4], coef2[5])"
   ]
  },
  {
   "cell_type": "code",
   "execution_count": 57,
   "id": "3f392e0f",
   "metadata": {},
   "outputs": [
    {
     "data": {
      "image/png": "[encoded data removed]",
      "text/plain": [
       "<Figure size 600x300 with 1 Axes>"
      ]
     },
     "metadata": {},
     "output_type": "display_data"
    }
   ],
   "source": [
    "# Figure environment:\n",
    "\n",
    "plt.figure(figsize=(6,3))\n",
    "\n",
    "plt.plot(h1_vel, h1_int, label = \"21 cm line\")\n",
    "\n",
    "# 1st attemp: Regression -> 1 Gaussian\n",
    "#plt.plot(h1_vel, h1_int_fit, color = \"magenta\", label = \"1 Gaussian Regression\")\n",
    "\n",
    "\n",
    "# 2nd attemp: Regression -> 2 Gaussians\n",
    "plt.plot(h1_vel, h1_int_fit2, color = \"black\", label = \"2 Gaussian Regression\")\n",
    "\n",
    "# Gaussian 1\n",
    "plt.plot(h1_vel, gaussian_1, linestyle = \":\", color = \"green\", label = \"HI Cloud 1\")\n",
    "\n",
    "# Gaussian 2\n",
    "plt.plot(h1_vel, gaussian_2, linestyle = \"--\", color = \"red\", label = \"HI Cloud 2\")\n",
    "\n",
    "plt.legend()\n",
    "\n",
    "plt.xlabel(r\"$v\\,\\rm [km\\,s^{-1}]$\")\n",
    "plt.ylabel(r\"$T_b\\,\\rm [K]$\")\n",
    "\n",
    "plt.xlim(-50, +50)\n",
    "\n",
    "plt.show()"
   ]
  },
  {
   "cell_type": "markdown",
   "id": "20c1dada",
   "metadata": {},
   "source": [
    "## 6. Summarise our findings:"
   ]
  },
  {
   "cell_type": "code",
   "execution_count": 58,
   "id": "dbe2acb0",
   "metadata": {},
   "outputs": [
    {
     "name": "stdout",
     "output_type": "stream",
     "text": [
      "The central velocity in km/s of the HI cloud 1 is:  -4.760603471924888\n",
      "The central velocity on km /s of the HI cloud 2 is:  -11.97680238973316\n",
      "The relative velocity between the HI clouds:  7.216198917808272\n"
     ]
    }
   ],
   "source": [
    "print(\"The central velocity in km/s of the HI cloud 1 is: \", -coef2[2])\n",
    "\n",
    "print(\"The central velocity on km /s of the HI cloud 2 is: \", -coef2[5])\n",
    "\n",
    "print(\"The relative velocity between the HI clouds: \", abs(coef2[5]-coef2[2]))"
   ]
  },
  {
   "cell_type": "markdown",
   "id": "9f6db36a",
   "metadata": {},
   "source": [
    "### Measuring velocity dispersions:\n",
    "\n",
    "$$b=\\frac{1}{2\\sigma_v^2}$$\n",
    "\n",
    "$$\\sigma_v=\\sqrt{\\frac{1}{2b}}$$"
   ]
  },
  {
   "cell_type": "code",
   "execution_count": 59,
   "id": "4615bc88",
   "metadata": {},
   "outputs": [
    {
     "name": "stdout",
     "output_type": "stream",
     "text": [
      "The velocity dispersion in km/s of the HI cloud 1 is:  2.9900424625561057\n",
      "The velocity dispersion in km /s of the HI cloud 2 is:  12.243046499726738\n"
     ]
    }
   ],
   "source": [
    "# CLoud 1 dispersion \n",
    "\n",
    "sigma_v1 = np.sqrt(1./(2*coef2[1]))\n",
    "\n",
    "# CLoud 2 dispersion \n",
    "\n",
    "sigma_v2 = np.sqrt(1./(2*coef2[4]))\n",
    "\n",
    "print(\"The velocity dispersion in km/s of the HI cloud 1 is: \", sigma_v1)\n",
    "\n",
    "print(\"The velocity dispersion in km /s of the HI cloud 2 is: \", sigma_v2)\n"
   ]
  }
 ],
 "metadata": {
  "kernelspec": {
   "display_name": "Python 3 (ipykernel)",
   "language": "python",
   "name": "python3"
  },
  "language_info": {
   "codemirror_mode": {
    "name": "ipython",
    "version": 3
   },
   "file_extension": ".py",
   "mimetype": "text/x-python",
   "name": "python",
   "nbconvert_exporter": "python",
   "pygments_lexer": "ipython3",
   "version": "3.9.18"
  }
 },
 "nbformat": 4,
 "nbformat_minor": 5
}
