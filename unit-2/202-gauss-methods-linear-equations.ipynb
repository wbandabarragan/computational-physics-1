{
 "cells": [
  {
   "cell_type": "markdown",
   "id": "b5fb15d8",
   "metadata": {},
   "source": [
    "# Gauss methods for linear equation systems\n",
    "\n",
    "Solve systems of the type below for $x$ and $y$:\n",
    "\n",
    "$ax + by = c$ \n",
    "\n",
    "$dx + ey = f$"
   ]
  },
  {
   "cell_type": "markdown",
   "id": "992c5fde",
   "metadata": {},
   "source": [
    "## Example:\n",
    "\n",
    "Solve:\n",
    "\n",
    "$4x + 5y = -2$\n",
    "\n",
    "$2x -3y = 1$ \n"
   ]
  },
  {
   "cell_type": "code",
   "execution_count": 2,
   "id": "e71a9cf5",
   "metadata": {},
   "outputs": [],
   "source": [
    "import matplotlib.pyplot as plt\n",
    "\n",
    "import numpy as np"
   ]
  },
  {
   "cell_type": "markdown",
   "id": "f1b219b2",
   "metadata": {},
   "source": [
    "## 1. LU decomposition method:"
   ]
  },
  {
   "cell_type": "markdown",
   "id": "410798fa",
   "metadata": {},
   "source": [
    "## Example:\n",
    "\n",
    "Solve:\n",
    "\n",
    "$4x + 5y = -2$\n",
    "\n",
    "$2x -3y = 1$ "
   ]
  },
  {
   "cell_type": "code",
   "execution_count": 3,
   "id": "7c36858b",
   "metadata": {},
   "outputs": [
    {
     "name": "stdout",
     "output_type": "stream",
     "text": [
      "[[ 4  5]\n",
      " [ 2 -3]]\n"
     ]
    }
   ],
   "source": [
    "A = np.array([[4, 5], [2, -3]])\n",
    "\n",
    "print(A)"
   ]
  },
  {
   "cell_type": "code",
   "execution_count": 4,
   "id": "c2a478c0",
   "metadata": {},
   "outputs": [
    {
     "name": "stdout",
     "output_type": "stream",
     "text": [
      "[[-2]\n",
      " [ 1]]\n"
     ]
    }
   ],
   "source": [
    "b = np.array([[-2, 1]]).T\n",
    "\n",
    "print(b)"
   ]
  },
  {
   "cell_type": "markdown",
   "id": "5cc7c92a",
   "metadata": {},
   "source": [
    "### Use: \n",
    "\n",
    "https://docs.scipy.org/doc/scipy/reference/generated/scipy.linalg.lu.html"
   ]
  },
  {
   "cell_type": "code",
   "execution_count": 5,
   "id": "c7f6d0f8",
   "metadata": {},
   "outputs": [],
   "source": [
    "import scipy.linalg  "
   ]
  },
  {
   "cell_type": "code",
   "execution_count": 6,
   "id": "196ac025",
   "metadata": {},
   "outputs": [],
   "source": [
    "P, L, U = scipy.linalg.lu(A)"
   ]
  },
  {
   "cell_type": "code",
   "execution_count": 7,
   "id": "535ea4af",
   "metadata": {},
   "outputs": [
    {
     "name": "stdout",
     "output_type": "stream",
     "text": [
      "[[1. 0.]\n",
      " [0. 1.]]\n"
     ]
    }
   ],
   "source": [
    "print(P)"
   ]
  },
  {
   "cell_type": "code",
   "execution_count": 8,
   "id": "738f32b0",
   "metadata": {},
   "outputs": [
    {
     "name": "stdout",
     "output_type": "stream",
     "text": [
      "[[1.  0. ]\n",
      " [0.5 1. ]]\n"
     ]
    }
   ],
   "source": [
    "print(L)"
   ]
  },
  {
   "cell_type": "code",
   "execution_count": 9,
   "id": "b56211e4",
   "metadata": {},
   "outputs": [
    {
     "name": "stdout",
     "output_type": "stream",
     "text": [
      "[[ 4.   5. ]\n",
      " [ 0.  -5.5]]\n"
     ]
    }
   ],
   "source": [
    "print(U)"
   ]
  },
  {
   "cell_type": "code",
   "execution_count": 10,
   "id": "0a436938",
   "metadata": {},
   "outputs": [
    {
     "name": "stdout",
     "output_type": "stream",
     "text": [
      "[[ 4.  5.]\n",
      " [ 2. -3.]]\n"
     ]
    }
   ],
   "source": [
    "A1 = P @ L @ U\n",
    "\n",
    "print(A1)"
   ]
  },
  {
   "cell_type": "markdown",
   "id": "b25a5b49-20e8-4774-bbab-d20c3b165f36",
   "metadata": {},
   "source": [
    "### Same system, different order:\n",
    "\n",
    "$2x -3y = 1$ \n",
    "\n",
    "$4x + 5y = -2$\n",
    "\n"
   ]
  },
  {
   "cell_type": "code",
   "execution_count": 11,
   "id": "43a44015",
   "metadata": {},
   "outputs": [
    {
     "name": "stdout",
     "output_type": "stream",
     "text": [
      "[[ 2 -3]\n",
      " [ 4  5]]\n"
     ]
    }
   ],
   "source": [
    "A2 = np.array([[2, -3], [4, 5]])\n",
    "\n",
    "print(A2)"
   ]
  },
  {
   "cell_type": "code",
   "execution_count": 12,
   "id": "2aa5ca8a",
   "metadata": {},
   "outputs": [],
   "source": [
    "P2, L2, U2 = scipy.linalg.lu(A2)"
   ]
  },
  {
   "cell_type": "code",
   "execution_count": 13,
   "id": "24c3e434",
   "metadata": {},
   "outputs": [
    {
     "name": "stdout",
     "output_type": "stream",
     "text": [
      "[[0. 1.]\n",
      " [1. 0.]]\n"
     ]
    }
   ],
   "source": [
    "print(P2)\n"
   ]
  },
  {
   "cell_type": "code",
   "execution_count": 14,
   "id": "ca88daf5",
   "metadata": {},
   "outputs": [
    {
     "name": "stdout",
     "output_type": "stream",
     "text": [
      "[[ 2. -3.]\n",
      " [ 4.  5.]]\n"
     ]
    }
   ],
   "source": [
    "A2 = P2 @ L2 @ U2\n",
    "\n",
    "print(A2)"
   ]
  },
  {
   "cell_type": "markdown",
   "id": "a95f25ea-e818-4df3-9f80-f6e77112e441",
   "metadata": {},
   "source": [
    "### Find the solution:"
   ]
  },
  {
   "cell_type": "code",
   "execution_count": 15,
   "id": "2c155f1f",
   "metadata": {},
   "outputs": [],
   "source": [
    "Linv = np.linalg.inv(L)\n",
    "\n",
    "Uinv = np.linalg.inv(U)"
   ]
  },
  {
   "cell_type": "code",
   "execution_count": 16,
   "id": "a9839108",
   "metadata": {},
   "outputs": [
    {
     "name": "stdout",
     "output_type": "stream",
     "text": [
      "[[ 1.   0. ]\n",
      " [-0.5  1. ]]\n"
     ]
    }
   ],
   "source": [
    "print(Linv)"
   ]
  },
  {
   "cell_type": "code",
   "execution_count": 17,
   "id": "bae78bd1",
   "metadata": {},
   "outputs": [
    {
     "name": "stdout",
     "output_type": "stream",
     "text": [
      "[[ 0.25        0.22727273]\n",
      " [-0.         -0.18181818]]\n"
     ]
    }
   ],
   "source": [
    "print(Uinv)"
   ]
  },
  {
   "cell_type": "code",
   "execution_count": 18,
   "id": "e04aabde",
   "metadata": {},
   "outputs": [
    {
     "name": "stdout",
     "output_type": "stream",
     "text": [
      "[[-2.]\n",
      " [ 2.]]\n"
     ]
    }
   ],
   "source": [
    "y = Linv @ b\n",
    "\n",
    "print(y)"
   ]
  },
  {
   "cell_type": "code",
   "execution_count": 19,
   "id": "ecd6c94e",
   "metadata": {},
   "outputs": [
    {
     "name": "stdout",
     "output_type": "stream",
     "text": [
      "[[-0.04545455]\n",
      " [-0.36363636]]\n"
     ]
    }
   ],
   "source": [
    "x_sln = Uinv @ y\n",
    "\n",
    "print(x_sln)"
   ]
  },
  {
   "cell_type": "markdown",
   "id": "36b8bf02",
   "metadata": {},
   "source": [
    "## Example:\n",
    "\n",
    "$4x + 3y + 2z = 25$\n",
    "\n",
    "$3x -5y + 2z = -4$\n",
    "\n",
    "$-2x + 2y + 3z = -10$"
   ]
  },
  {
   "cell_type": "code",
   "execution_count": 20,
   "id": "05f5d4df",
   "metadata": {},
   "outputs": [],
   "source": [
    "A = np.array([[4, 3, 2], [3, -5, 2], [-2, 2, 3]])"
   ]
  },
  {
   "cell_type": "code",
   "execution_count": 21,
   "id": "0a8a1d6d",
   "metadata": {},
   "outputs": [
    {
     "name": "stdout",
     "output_type": "stream",
     "text": [
      "[[ 25]\n",
      " [ -4]\n",
      " [-10]]\n"
     ]
    }
   ],
   "source": [
    "b = np.array([[25], [-4], [-10]])\n",
    "\n",
    "print(b)"
   ]
  },
  {
   "cell_type": "code",
   "execution_count": 23,
   "id": "ec26d0a9",
   "metadata": {},
   "outputs": [],
   "source": [
    "P, L, U = scipy.linalg.lu(A)"
   ]
  },
  {
   "cell_type": "code",
   "execution_count": 24,
   "id": "5a61fd68",
   "metadata": {},
   "outputs": [
    {
     "name": "stdout",
     "output_type": "stream",
     "text": [
      "[[1. 0. 0.]\n",
      " [0. 1. 0.]\n",
      " [0. 0. 1.]]\n"
     ]
    }
   ],
   "source": [
    "print(P)"
   ]
  },
  {
   "cell_type": "code",
   "execution_count": 25,
   "id": "60919397",
   "metadata": {},
   "outputs": [
    {
     "name": "stdout",
     "output_type": "stream",
     "text": [
      "[[ 1.          0.          0.        ]\n",
      " [ 0.75        1.          0.        ]\n",
      " [-0.5        -0.48275862  1.        ]]\n"
     ]
    }
   ],
   "source": [
    "print(L)"
   ]
  },
  {
   "cell_type": "code",
   "execution_count": 26,
   "id": "13c18c64",
   "metadata": {},
   "outputs": [
    {
     "name": "stdout",
     "output_type": "stream",
     "text": [
      "[[ 4.          3.          2.        ]\n",
      " [ 0.         -7.25        0.5       ]\n",
      " [ 0.          0.          4.24137931]]\n"
     ]
    }
   ],
   "source": [
    "print(U)"
   ]
  },
  {
   "cell_type": "code",
   "execution_count": 27,
   "id": "6c8728ea",
   "metadata": {},
   "outputs": [
    {
     "name": "stdout",
     "output_type": "stream",
     "text": [
      "[[ 1.          0.          0.        ]\n",
      " [-0.75        1.          0.        ]\n",
      " [ 0.13793103  0.48275862  1.        ]]\n",
      "[[ 0.25        0.10344828 -0.1300813 ]\n",
      " [-0.         -0.13793103  0.01626016]\n",
      " [ 0.          0.          0.23577236]]\n"
     ]
    }
   ],
   "source": [
    "Linv = np.linalg.inv(L)\n",
    "Uinv = np.linalg.inv(U)\n",
    "\n",
    "print(Linv)\n",
    "print(Uinv)"
   ]
  },
  {
   "cell_type": "code",
   "execution_count": 28,
   "id": "ad23d915",
   "metadata": {},
   "outputs": [
    {
     "name": "stdout",
     "output_type": "stream",
     "text": [
      "[[ 25.        ]\n",
      " [-22.75      ]\n",
      " [ -8.48275862]]\n"
     ]
    }
   ],
   "source": [
    "yy = Linv @ b\n",
    "\n",
    "print(yy)"
   ]
  },
  {
   "cell_type": "code",
   "execution_count": 29,
   "id": "d828e2d7",
   "metadata": {},
   "outputs": [
    {
     "name": "stdout",
     "output_type": "stream",
     "text": [
      "[[ 5.]\n",
      " [ 3.]\n",
      " [-2.]]\n"
     ]
    }
   ],
   "source": [
    "xx_sln = Uinv @ yy\n",
    "\n",
    "print(xx_sln)"
   ]
  },
  {
   "cell_type": "markdown",
   "id": "d7f57a5c",
   "metadata": {},
   "source": [
    "## 2. Gauss elimination method:\n",
    "\n",
    "\n",
    "Documentation: \n",
    "\n",
    "https://pythonnumericalmethods.berkeley.edu/notebooks/chapter14.04-Solutions-to-Systems-of-Linear-Equations.html\n",
    "\n",
    "\n",
    "Code reference:\n",
    "\n",
    "https://www.delftstack.com/howto/python/gaussian-elimination-using-pivoting/\n",
    "\n",
    "\n",
    "### Same example:\n",
    "\n",
    "$4x + 3y + 2z = 25$\n",
    "\n",
    "$3x -5y + 2z = -4$\n",
    "\n",
    "$-2x + 2y + 3z = -10$"
   ]
  },
  {
   "cell_type": "code",
   "execution_count": 30,
   "id": "61a29ad9",
   "metadata": {},
   "outputs": [
    {
     "name": "stdout",
     "output_type": "stream",
     "text": [
      "Solution using numpy: [ 5.  3. -2.]\n"
     ]
    }
   ],
   "source": [
    "# Define matrix A\n",
    "A = np.array([[4., 3., 2.], [3., -5., 2.], [-2., 2., 3.]])\n",
    " \n",
    "# Define vector b\n",
    "b = np.array([25., -4., -10.])\n",
    "\n",
    "print(\"Solution using numpy:\", np.linalg.solve(A, b))"
   ]
  },
  {
   "cell_type": "code",
   "execution_count": 31,
   "id": "cea17e80",
   "metadata": {},
   "outputs": [
    {
     "name": "stdout",
     "output_type": "stream",
     "text": [
      "[[ 4.  3.  2.]\n",
      " [ 3. -5.  2.]\n",
      " [-2.  2.  3.]]\n"
     ]
    }
   ],
   "source": [
    "print(A)"
   ]
  },
  {
   "cell_type": "code",
   "execution_count": 32,
   "id": "ed486152",
   "metadata": {},
   "outputs": [
    {
     "name": "stdout",
     "output_type": "stream",
     "text": [
      "Triangular matrix is: \n",
      " [[  4.           3.           2.        ]\n",
      " [  0.           9.66666667  -0.66666667]\n",
      " [  0.           0.         -11.71428571]]\n",
      "New Vector b is: \n",
      " [25.         30.33333333 23.42857143]\n"
     ]
    }
   ],
   "source": [
    "# Solution using Gaussian elimination with pivoting.\n",
    "# Based on: https://www.delftstack.com/howto/python/gaussian-elimination-using-pivoting/\n",
    "\n",
    "# Length of vector b\n",
    "n = len(b)\n",
    "\n",
    "# Solution vector\n",
    "x = np.zeros(n, float)\n",
    "\n",
    "# first loop specifies the fixed row\n",
    "for k in range(n - 1):\n",
    "    \n",
    "    # Compute the absolute values element-wise\n",
    "    #print(\"value\", np.fabs(A[k,k]))\n",
    "    \n",
    "    if np.fabs(A[k,k]) < 1.0e-12:\n",
    "    \n",
    "        for i in range(k + 1, n):\n",
    "            \n",
    "            if np.fabs(A[i,k]) > np.fabs(A[k,k]):\n",
    "                \n",
    "                A[[k,i]] = A[[i,k]]\n",
    "                b[[k,i]] = b[[i,k]]\n",
    "                \n",
    "                break\n",
    "\n",
    "    # Applies the elimination below the fixed row\n",
    "    for i in range(k+1,n):\n",
    "        \n",
    "        if A[i,k] == 0:continue\n",
    "\n",
    "        factor = A[k,k]/A[i,k]\n",
    "        \n",
    "        for j in range(k,n):\n",
    "            A[i,j] = A[k,j] - A[i,j]*factor\n",
    "            \n",
    "            #we also calculate the b vector of each row\n",
    "            \n",
    "        b[i] = b[k] - b[i]*factor\n",
    "\n",
    "print(\"Triangular matrix is: \\n\", A)\n",
    "\n",
    "print(\"New Vector b is: \\n\", b)"
   ]
  },
  {
   "cell_type": "code",
   "execution_count": 33,
   "id": "550de918",
   "metadata": {},
   "outputs": [
    {
     "name": "stdout",
     "output_type": "stream",
     "text": [
      "[ 0.  0. -2.]\n",
      "The solution of the system is: [ 5.  3. -2.]\n"
     ]
    }
   ],
   "source": [
    "# Update x vector\n",
    "x[n-1] = b[n-1] / A[n-1, n-1]\n",
    "\n",
    "print(x)\n",
    "\n",
    "# Solve equations in triangular matrix:\n",
    "\n",
    "for i in range(n-2, -1, -1):\n",
    "    \n",
    "    sum_ax = 0\n",
    "  \n",
    "    for j in range(i+1, n):\n",
    "        sum_ax += A[i,j] * x[j]\n",
    "        \n",
    "    x[i] = (b[i] - sum_ax) / A[i,i]\n",
    "\n",
    "print(\"The solution of the system is:\", x)"
   ]
  },
  {
   "cell_type": "markdown",
   "id": "be6306fb",
   "metadata": {},
   "source": [
    "## 3. Gauss-Jordan Method:\n",
    "\n",
    "\n",
    "Documentation: \n",
    "\n",
    "https://pythonnumericalmethods.berkeley.edu/notebooks/chapter14.04-Solutions-to-Systems-of-Linear-Equations.html\n",
    "\n",
    "Code reference:\n",
    "\n",
    "https://steemit.com/hive-181430/@sheham-sh/siz-tutorial-or-or-gauss-jordan-method-in-python-without-numpy-or-or-20-to-siz-official-or-or-by-sheham-sh\n",
    "\n",
    "### Same example:\n",
    "\n",
    "$4x + 3y + 2z = 25$\n",
    "\n",
    "$3x -5y + 2z = -4$\n",
    "\n",
    "$-2x + 2y + 3z = -10$"
   ]
  },
  {
   "cell_type": "code",
   "execution_count": 34,
   "id": "f016434a",
   "metadata": {},
   "outputs": [
    {
     "name": "stdout",
     "output_type": "stream",
     "text": [
      "Initial array is:\n",
      " [[  4   3   2  25]\n",
      " [  3  -5   2  -4]\n",
      " [ -2   2   3 -10]]\n"
     ]
    }
   ],
   "source": [
    "# First get augmented matrix\n",
    "\n",
    "A_g = [\n",
    "    [4, 3, 2, 25],\n",
    "    [3, -5, 2, -4],\n",
    "    [-2, 2, 3, -10]]\n",
    "\n",
    "ini_array = np.array(A_g)\n",
    "\n",
    "print(\"Initial array is:\\n\", ini_array)"
   ]
  },
  {
   "cell_type": "code",
   "execution_count": 35,
   "id": "ab2b9a9d",
   "metadata": {},
   "outputs": [],
   "source": [
    "# Based on: https://steemit.com/hive-181430/@sheham-sh/siz-tutorial-or-or-gauss-jordan-method-in-python-without-numpy-or-or-20-to-siz-official-or-or-by-sheham-sh\n",
    "\n",
    "# Get ones in diagonal:\n",
    "\n",
    "def getone(pp, sd):\n",
    "    \"\"\"\n",
    "    Function to loop over matrix elements, check if =1, and makes 1 if not.\n",
    "    Get ones in the diagonal.\n",
    "    \"\"\"\n",
    "    \n",
    "    for i in range(len(sd[0])):\n",
    "        # Check when =1\n",
    "        if sd[pp][pp] != 1:\n",
    "            q00 = sd[pp][pp]\n",
    "            \n",
    "            # Get 1's\n",
    "            for j in range(len(sd[0])):\n",
    "                sd[pp][j] = sd[pp][j] / q00\n",
    "\n",
    "# Get zeroes outside the diagonal:\n",
    "\n",
    "def getzero(r, c, sd):\n",
    "    \"\"\"\n",
    "    Function to loop over matrix elements, and reduce non-diagonal elements to 0.\n",
    "    Get zeroes outside the diagonal.\n",
    "    \"\"\"\n",
    "    \n",
    "    for i in range(len(sd[0])):\n",
    "        \n",
    "        if sd[r][c] != 0:\n",
    "            q04 = sd[r][c]\n",
    "    \n",
    "            for j in range(len(sd[0])):\n",
    "                sd[r][j] = sd[r][j] - ((q04) * sd[c][j])"
   ]
  },
  {
   "cell_type": "code",
   "execution_count": 36,
   "id": "3c746525",
   "metadata": {},
   "outputs": [
    {
     "name": "stdout",
     "output_type": "stream",
     "text": [
      "[[1.0, 0.0, 0.0, 5.0], [0.0, 1.0, 0.0, 3.0], [0.0, 0.0, 1.0, -2.0]]\n",
      "Gauss-Jordan Solution is: [ 5.  3. -2.]\n"
     ]
    }
   ],
   "source": [
    "# Loop over elements and call function defined above.\n",
    "\n",
    "for i in range(len(A_g)):\n",
    "    getone(i, A_g)\n",
    "\n",
    "    for j in range(len(A_g)):\n",
    "        if i != j:\n",
    "            getzero(j, i, A_g)\n",
    "\n",
    "sln_array = np.array(A_g)\n",
    "print(A_g)\n",
    "print(\"Gauss-Jordan Solution is:\", sln_array[:,3])"
   ]
  },
  {
   "cell_type": "markdown",
   "id": "f56036c6",
   "metadata": {},
   "source": [
    "## 4. Gauss-Seidel Method\n",
    "\n",
    "The Gauss-Seidel Method is a specific iterative method, that is always using the latest estimated value for each elements in 𝑥. \n",
    "\n",
    "Documentation and code reference:\n",
    "\n",
    "https://pythonnumericalmethods.berkeley.edu/notebooks/chapter14.04-Solutions-to-Systems-of-Linear-Equations.html\n",
    "\n",
    "### Same example:\n",
    "\n",
    "$4x + 3y + 2z = 25$\n",
    "\n",
    "$3x -5y + 2z = -4$\n",
    "\n",
    "$-2x + 2y + 3z = -10$"
   ]
  },
  {
   "cell_type": "code",
   "execution_count": 37,
   "id": "18c2ce92",
   "metadata": {},
   "outputs": [
    {
     "name": "stdout",
     "output_type": "stream",
     "text": [
      "Solution by NumPy:\n",
      "[ 5.  3. -2.]\n"
     ]
    }
   ],
   "source": [
    "# Define A matrix\n",
    "a_lhs = np.array([[4., 3., 2.], [3., -5., 2.], [-2., 2., 3.]])\n",
    "\n",
    "# Define b vector\n",
    "b_rhs = np.array([25, -4, -10])\n",
    "\n",
    "sln = np.linalg.solve(a_lhs, b_rhs)\n",
    "print(\"Solution by NumPy:\")\n",
    "#print(np.linalg.solve(AA, BB))\n",
    "print(sln)"
   ]
  },
  {
   "cell_type": "code",
   "execution_count": 38,
   "id": "b09781ec",
   "metadata": {},
   "outputs": [
    {
     "name": "stdout",
     "output_type": "stream",
     "text": [
      "NOT diagonally dominant\n"
     ]
    }
   ],
   "source": [
    "# Find diagonal coefficients\n",
    "diag = np.diag(np.abs(a_lhs)) \n",
    "\n",
    "# Find row sum without diagonal\n",
    "off_diag = np.sum(np.abs(a_lhs), axis=1) - diag \n",
    "\n",
    "if np.all(diag > off_diag):\n",
    "    print('matrix is diagonally dominant')\n",
    "else:\n",
    "    print('NOT diagonally dominant')"
   ]
  },
  {
   "cell_type": "code",
   "execution_count": 44,
   "id": "9cc52f81",
   "metadata": {},
   "outputs": [],
   "source": [
    "# Provide guesses\n",
    "x1 = 0. # x0\n",
    "x2 = 0. # y0\n",
    "x3 = 0. # z0\n",
    "\n",
    "# Define the threshold\n",
    "epsilon = 1.e-8\n",
    "converged = False\n",
    "\n",
    "# Set an array containing our guessed solutions\n",
    "x_old = np.array([x1, x2, x3]) # our guess"
   ]
  },
  {
   "cell_type": "code",
   "execution_count": 45,
   "id": "1816426a",
   "metadata": {},
   "outputs": [
    {
     "name": "stdout",
     "output_type": "stream",
     "text": [
      "Iteration results\n",
      " k,    x,     y,     z,     d\n",
      "0, 0.0000, 0.0000, 0.0000, 100.0000\n",
      "1, 6.2500, 4.5500, -2.2000, 8.037723558\n",
      "2, 3.9375, 2.2825, -2.2300, 3.238844315\n",
      "3, 5.6531, 3.2999, -1.7645, 2.048197081\n",
      "4, 4.6573, 2.8886, -2.1542, 1.145673989\n",
      "5, 5.1606, 3.0347, -1.9161, 0.575629234\n",
      "6, 4.9320, 2.9928, -2.0405, 0.263680302\n",
      "7, 5.0257, 2.9992, -1.9823, 0.110465353\n",
      "8, 4.9918, 3.0021, -2.0069, 0.041964802\n",
      "9, 5.0019, 2.9984, -1.9977, 0.014184255\n",
      "10, 5.0001, 3.0010, -2.0006, 0.004326083\n",
      "11, 4.9996, 2.9995, -2.0000, 0.001685901\n",
      "12, 5.0004, 3.0002, -1.9999, 0.001067197\n",
      "13, 4.9998, 2.9999, -2.0001, 0.000669167\n",
      "14, 5.0001, 3.0000, -1.9999, 0.000371065\n",
      "15, 4.9999, 3.0000, -2.0000, 0.000185096\n",
      "16, 5.0000, 3.0000, -2.0000, 0.000084231\n",
      "17, 5.0000, 3.0000, -2.0000, 0.000035048\n",
      "18, 5.0000, 3.0000, -2.0000, 0.000013209\n",
      "19, 5.0000, 3.0000, -2.0000, 0.000004423\n",
      "20, 5.0000, 3.0000, -2.0000, 0.000001347\n",
      "21, 5.0000, 3.0000, -2.0000, 0.000000548\n",
      "22, 5.0000, 3.0000, -2.0000, 0.000000352\n",
      "23, 5.0000, 3.0000, -2.0000, 0.000000218\n",
      "24, 5.0000, 3.0000, -2.0000, 0.000000120\n",
      "25, 5.0000, 3.0000, -2.0000, 0.000000059\n",
      "26, 5.0000, 3.0000, -2.0000, 0.000000027\n",
      "27, 5.0000, 3.0000, -2.0000, 0.000000011\n",
      "28, 5.0000, 3.0000, -2.0000, 0.000000004\n",
      "Converged!\n"
     ]
    }
   ],
   "source": [
    "print('Iteration results')\n",
    "print(' k,    x,     y,     z,     d')\n",
    "print(\"%d, %.4f, %.4f, %.4f, %.4f\"%(0, x1, x2, x3, 100))\n",
    "\n",
    "for k in range(1, 50):\n",
    "    \n",
    "    x1 = (25 - 3*x2 - 2*x3)/4\n",
    "    x2 = (4 + 3*x1 + 2*x3)/5\n",
    "    x3 = (-10 +2*x1 - 2*x2)/3\n",
    "    \n",
    "    x = np.array([x1, x2, x3])\n",
    "    \n",
    "    # check if it is smaller than threshold\n",
    "    dx = np.sqrt(np.dot(x - x_old, x - x_old))\n",
    "    \n",
    "    print(\"%d, %.4f, %.4f, %.4f, %.9f\"%(k, x1, x2, x3, dx))\n",
    "    \n",
    "    \n",
    "    if dx < epsilon:\n",
    "        converged = True\n",
    "        print('Converged!')\n",
    "        break\n",
    "    \n",
    "        # assign the latest x value to the old value\n",
    "    x_old = x\n",
    "    \n",
    "if not converged:\n",
    "    print('Not converge, increase the # of iterations')"
   ]
  },
  {
   "cell_type": "markdown",
   "id": "5186e8db",
   "metadata": {},
   "source": [
    "## Example:\n",
    "\n",
    "Solve:\n",
    "\n",
    "$8x+3y-3z=14$\n",
    "\n",
    "$-2x+8y+5z=5$\n",
    "\n",
    "$3x+5y+10z=-8$"
   ]
  },
  {
   "cell_type": "code",
   "execution_count": 46,
   "id": "b4311885",
   "metadata": {},
   "outputs": [
    {
     "name": "stdout",
     "output_type": "stream",
     "text": [
      "Solution by NumPy:\n",
      "[ 0.36012365  1.86553323 -1.84080371]\n"
     ]
    }
   ],
   "source": [
    "\n",
    "AA = np.array([[8, 3, -3], [-2, 8, 5], [3, 5, 10]], float)\n",
    "#the b matrix constant terms of the equations \n",
    "BB = np.array([14, 5, -8], float)\n",
    "\n",
    "\n",
    "sln = np.linalg.solve(AA, BB)\n",
    "print(\"Solution by NumPy:\")\n",
    "#print(np.linalg.solve(AA, BB))\n",
    "print(sln)"
   ]
  },
  {
   "cell_type": "code",
   "execution_count": 47,
   "id": "93938d89",
   "metadata": {},
   "outputs": [
    {
     "name": "stdout",
     "output_type": "stream",
     "text": [
      "matrix is diagonally dominant\n"
     ]
    }
   ],
   "source": [
    "a = [[8, 3, -3], [-2, -8, 5], [3, 5, 10]]\n",
    "\n",
    "# Find diagonal coefficients\n",
    "diag = np.diag(np.abs(a)) \n",
    "\n",
    "# Find row sum without diagonal\n",
    "off_diag = np.sum(np.abs(a), axis=1) - diag \n",
    "\n",
    "if np.all(diag > off_diag):\n",
    "    print('matrix is diagonally dominant')\n",
    "else:\n",
    "    print('NOT diagonally dominant')"
   ]
  },
  {
   "cell_type": "code",
   "execution_count": 48,
   "id": "bd6dc201",
   "metadata": {},
   "outputs": [
    {
     "name": "stdout",
     "output_type": "stream",
     "text": [
      "Iteration results\n",
      " k,    x1,     x2,     x3\n"
     ]
    }
   ],
   "source": [
    "x1 = 0\n",
    "x2 = 0\n",
    "x3 = 0\n",
    "\n",
    "epsilon = 1e-10\n",
    "converged = False\n",
    "\n",
    "x_old = np.array([x1, x2, x3]) # my guess\n",
    "\n",
    "print('Iteration results')\n",
    "print(' k,    x1,     x2,     x3')"
   ]
  },
  {
   "cell_type": "code",
   "execution_count": 49,
   "id": "9e5c60a1",
   "metadata": {},
   "outputs": [
    {
     "name": "stdout",
     "output_type": "stream",
     "text": [
      "1, 1.7500, 1.0625, -1.8562\n",
      "2, 0.6555, 1.9490, -1.9712\n",
      "3, 0.2799, 1.9270, -1.8475\n",
      "4, 0.3346, 1.8633, -1.8320\n",
      "5, 0.3642, 1.8611, -1.8398\n",
      "6, 0.3622, 1.8654, -1.8414\n",
      "7, 0.3600, 1.8658, -1.8409\n",
      "8, 0.3600, 1.8656, -1.8408\n",
      "9, 0.3601, 1.8655, -1.8408\n",
      "10, 0.3601, 1.8655, -1.8408\n",
      "11, 0.3601, 1.8655, -1.8408\n",
      "12, 0.3601, 1.8655, -1.8408\n",
      "13, 0.3601, 1.8655, -1.8408\n",
      "14, 0.3601, 1.8655, -1.8408\n",
      "15, 0.3601, 1.8655, -1.8408\n",
      "16, 0.3601, 1.8655, -1.8408\n",
      "17, 0.3601, 1.8655, -1.8408\n",
      "18, 0.3601, 1.8655, -1.8408\n",
      "19, 0.3601, 1.8655, -1.8408\n",
      "20, 0.3601, 1.8655, -1.8408\n",
      "Converged!\n"
     ]
    }
   ],
   "source": [
    "for k in range(1, 50):\n",
    "    x1 = (14 - 3*x2 + 3*x3)/8\n",
    "    x2 = (5 + 2*x1 - 5*x3)/8\n",
    "    x3 = (-8 -3*x1 - 5*x2)/10\n",
    "    x = np.array([x1, x2, x3])\n",
    "    \n",
    "    # check if it is smaller than threshold\n",
    "    dx = np.sqrt(np.dot(x - x_old, x - x_old))\n",
    "    \n",
    "    print(\"%d, %.4f, %.4f, %.4f\"%(k, x1, x2, x3))\n",
    "    \n",
    "    \n",
    "    if dx < epsilon:\n",
    "        converged = True\n",
    "        print('Converged!')\n",
    "        break\n",
    "    \n",
    "        # assign the latest x value to the old value\n",
    "    x_old = x\n",
    "    \n",
    "if not converged:\n",
    "    print('Not converge, increase the # of iterations')"
   ]
  },
  {
   "cell_type": "code",
   "execution_count": null,
   "id": "9282ad57",
   "metadata": {},
   "outputs": [],
   "source": []
  },
  {
   "cell_type": "code",
   "execution_count": null,
   "id": "691e659a-577f-4423-9ed1-ed5d23b740cb",
   "metadata": {},
   "outputs": [],
   "source": []
  },
  {
   "cell_type": "code",
   "execution_count": null,
   "id": "56f4f8a3-a597-4e8c-8265-590d1a87809f",
   "metadata": {},
   "outputs": [],
   "source": []
  },
  {
   "cell_type": "code",
   "execution_count": null,
   "id": "d4d19ba0-fafa-4601-99af-1ad7a203dcff",
   "metadata": {},
   "outputs": [],
   "source": []
  },
  {
   "cell_type": "code",
   "execution_count": null,
   "id": "45a98eb5-2aac-41a7-a775-52d6e3de14fe",
   "metadata": {},
   "outputs": [],
   "source": []
  }
 ],
 "metadata": {
  "kernelspec": {
   "display_name": "Python 3 (ipykernel)",
   "language": "python",
   "name": "python3"
  },
  "language_info": {
   "codemirror_mode": {
    "name": "ipython",
    "version": 3
   },
   "file_extension": ".py",
   "mimetype": "text/x-python",
   "name": "python",
   "nbconvert_exporter": "python",
   "pygments_lexer": "ipython3",
   "version": "3.9.18"
  }
 },
 "nbformat": 4,
 "nbformat_minor": 5
}
