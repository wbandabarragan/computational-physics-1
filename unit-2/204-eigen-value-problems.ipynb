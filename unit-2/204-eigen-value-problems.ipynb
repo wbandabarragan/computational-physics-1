{
 "cells": [
  {
   "cell_type": "markdown",
   "id": "1324eecd",
   "metadata": {},
   "source": [
    "# Eigenvalues and Eigenvectors\n",
    "\n",
    "\n",
    "$$A\\,x=\\lambda\\,x$$\n",
    "\n",
    "\n",
    "where $\\lambda$ are the scale factors. \n",
    "\n",
    "## Linear transformations:"
   ]
  },
  {
   "cell_type": "code",
   "execution_count": 1,
   "id": "0312ed4f",
   "metadata": {},
   "outputs": [],
   "source": [
    "# Importing libraries\n",
    "\n",
    "import numpy as np\n",
    "import matplotlib.pyplot as plt"
   ]
  },
  {
   "cell_type": "code",
   "execution_count": 2,
   "id": "a792402b",
   "metadata": {},
   "outputs": [],
   "source": [
    "# Define our matrix\n",
    "\n",
    "a_matrix = np.array([[2, 0],[0, 1]])"
   ]
  },
  {
   "cell_type": "code",
   "execution_count": 3,
   "id": "e3460642",
   "metadata": {},
   "outputs": [
    {
     "name": "stdout",
     "output_type": "stream",
     "text": [
      "[[2 0]\n",
      " [0 1]]\n"
     ]
    }
   ],
   "source": [
    "print(a_matrix)"
   ]
  },
  {
   "cell_type": "markdown",
   "id": "85b13141",
   "metadata": {},
   "source": [
    "### Any vector:"
   ]
  },
  {
   "cell_type": "code",
   "execution_count": 4,
   "id": "95672616",
   "metadata": {},
   "outputs": [],
   "source": [
    "# Define our vector\n",
    "\n",
    "x = np.array([[1],[1]])"
   ]
  },
  {
   "cell_type": "code",
   "execution_count": 5,
   "id": "69ea08e4",
   "metadata": {},
   "outputs": [
    {
     "name": "stdout",
     "output_type": "stream",
     "text": [
      "[[1]\n",
      " [1]]\n"
     ]
    }
   ],
   "source": [
    "print(x)"
   ]
  },
  {
   "cell_type": "code",
   "execution_count": 6,
   "id": "98d8324f",
   "metadata": {},
   "outputs": [],
   "source": [
    "# Linear equation\n",
    "#b = np.dot(a_matrix, x)\n",
    "\n",
    "b = a_matrix @ x"
   ]
  },
  {
   "cell_type": "code",
   "execution_count": 7,
   "id": "91fae66d",
   "metadata": {},
   "outputs": [
    {
     "name": "stdout",
     "output_type": "stream",
     "text": [
      "[[2]\n",
      " [1]]\n"
     ]
    }
   ],
   "source": [
    "print(b)"
   ]
  },
  {
   "cell_type": "code",
   "execution_count": 8,
   "id": "1de11ced",
   "metadata": {},
   "outputs": [
    {
     "name": "stdout",
     "output_type": "stream",
     "text": [
      "[1]\n"
     ]
    }
   ],
   "source": [
    "print(b[1])"
   ]
  },
  {
   "cell_type": "code",
   "execution_count": 9,
   "id": "d6e91cdc",
   "metadata": {},
   "outputs": [
    {
     "data": {
      "image/png": "[encoded data removed]",
      "text/plain": [
       "<Figure size 300x200 with 1 Axes>"
      ]
     },
     "metadata": {},
     "output_type": "display_data"
    }
   ],
   "source": [
    "fig, ax = plt.subplots(figsize=(3,2))\n",
    "\n",
    "plt.quiver(0,0,x[0],x[1], angles='xy', scale_units='xy', scale = 1, color = 'b')\n",
    "plt.quiver(0,0,b[0],b[1], angles='xy', scale_units='xy', scale = 1, color = 'g')\n",
    "\n",
    "plt.xlim(-2.5, 2.5)\n",
    "plt.ylim(0, 2)\n",
    "\n",
    "plt.show()"
   ]
  },
  {
   "cell_type": "markdown",
   "id": "711e307d",
   "metadata": {},
   "source": [
    "### Special vector:"
   ]
  },
  {
   "cell_type": "code",
   "execution_count": 10,
   "id": "677367b9",
   "metadata": {},
   "outputs": [],
   "source": [
    "# New vector:\n",
    "x1 = np.array([[1],[0]])"
   ]
  },
  {
   "cell_type": "code",
   "execution_count": 11,
   "id": "7ab93837",
   "metadata": {},
   "outputs": [],
   "source": [
    "# Transformed vector\n",
    "\n",
    "b1 = a_matrix @ x1"
   ]
  },
  {
   "cell_type": "code",
   "execution_count": 12,
   "id": "93638a25",
   "metadata": {},
   "outputs": [
    {
     "name": "stdout",
     "output_type": "stream",
     "text": [
      "[[2]\n",
      " [0]]\n"
     ]
    }
   ],
   "source": [
    "print(b1)"
   ]
  },
  {
   "cell_type": "code",
   "execution_count": 13,
   "id": "8ef24658",
   "metadata": {},
   "outputs": [
    {
     "data": {
      "image/png": "[encoded data removed]",
      "text/plain": [
       "<Figure size 300x200 with 1 Axes>"
      ]
     },
     "metadata": {},
     "output_type": "display_data"
    }
   ],
   "source": [
    "fig, ax = plt.subplots(figsize=(3,2))\n",
    "\n",
    "plt.quiver(0,0,x1[0],x1[1], angles='xy', scale_units='xy', scale = 1, color = 'b')\n",
    "plt.quiver(0,0,b1[0],b1[1], angles='xy', scale_units='xy', scale = 1, color = 'g')\n",
    "\n",
    "plt.xlim(-2.5, 2.5)\n",
    "plt.ylim(-2, 2)\n",
    "\n",
    "plt.show()"
   ]
  },
  {
   "cell_type": "markdown",
   "id": "0bda3c9c",
   "metadata": {},
   "source": [
    "### 1. Get eigenvalues and eigenvectors using np.linalg.eig\n",
    "\n",
    "This numpy function computec the eigenvalues and right eigenvectors of a square array.\n"
   ]
  },
  {
   "cell_type": "code",
   "execution_count": 14,
   "id": "9820a233",
   "metadata": {},
   "outputs": [
    {
     "name": "stdout",
     "output_type": "stream",
     "text": [
      "[[2 0]\n",
      " [0 1]]\n"
     ]
    }
   ],
   "source": [
    "print(a_matrix)"
   ]
  },
  {
   "cell_type": "code",
   "execution_count": 15,
   "id": "c43efa88",
   "metadata": {},
   "outputs": [],
   "source": [
    "# Syntax\n",
    "\n",
    "w_eigenvalues, v_eigenvectors = np.linalg.eig(a_matrix)"
   ]
  },
  {
   "cell_type": "code",
   "execution_count": 16,
   "id": "9273c054",
   "metadata": {},
   "outputs": [
    {
     "name": "stdout",
     "output_type": "stream",
     "text": [
      "[2. 1.]\n"
     ]
    }
   ],
   "source": [
    "# Eigenvalues \n",
    "\n",
    "print(w_eigenvalues)"
   ]
  },
  {
   "cell_type": "code",
   "execution_count": 17,
   "id": "f328f01e",
   "metadata": {},
   "outputs": [
    {
     "name": "stdout",
     "output_type": "stream",
     "text": [
      "[[1. 0.]\n",
      " [0. 1.]]\n"
     ]
    }
   ],
   "source": [
    "# Eigenvectors\n",
    "\n",
    "print(v_eigenvectors)"
   ]
  },
  {
   "cell_type": "code",
   "execution_count": 17,
   "id": "f036a264",
   "metadata": {},
   "outputs": [
    {
     "name": "stdout",
     "output_type": "stream",
     "text": [
      "[[0]\n",
      " [1]]\n"
     ]
    }
   ],
   "source": [
    "# Define the second eigenvector \n",
    "\n",
    "x2 = np.array([[0],[1]])\n",
    "\n",
    "print(x2)"
   ]
  },
  {
   "cell_type": "code",
   "execution_count": 18,
   "id": "d994fc63",
   "metadata": {},
   "outputs": [
    {
     "name": "stdout",
     "output_type": "stream",
     "text": [
      "[[0]\n",
      " [1]]\n"
     ]
    }
   ],
   "source": [
    "# LT of this vector\n",
    "\n",
    "b2 = a_matrix @ x2\n",
    "\n",
    "print(b2)"
   ]
  },
  {
   "cell_type": "code",
   "execution_count": 19,
   "id": "cbda04af",
   "metadata": {},
   "outputs": [
    {
     "data": {
      "image/png": "[encoded data removed]",
      "text/plain": [
       "<Figure size 300x200 with 1 Axes>"
      ]
     },
     "metadata": {},
     "output_type": "display_data"
    }
   ],
   "source": [
    "fig, ax = plt.subplots(figsize=(3,2))\n",
    "\n",
    "plt.quiver(0,0,x2[0],x2[1], angles='xy', scale_units='xy', scale = 1, color = 'b')\n",
    "plt.quiver(0,0,b2[0],b2[1], angles='xy', scale_units='xy', scale = 1, color = 'g')\n",
    "\n",
    "plt.xlim(-2.5, 2.5)\n",
    "plt.ylim(-2, 2)\n",
    "\n",
    "plt.show()"
   ]
  },
  {
   "cell_type": "markdown",
   "id": "71af4e35",
   "metadata": {},
   "source": [
    "## 2. Finding the largest eigenvalue\n",
    "\n",
    "https://pythonnumericalmethods.studentorg.berkeley.edu/notebooks/chapter15.02-The-Power-Method.html\n",
    "\n",
    "Assume $\\lambda_1$ is the largest eigenvalue, as $k$ grows the following equation will converge to the first term.\n",
    "\n",
    "$$ Ax_{k-1} = \\lambda_1[v_1+\\frac{c_2}{c_1}\\frac{\\lambda_2^k}{\\lambda_1^k}v_2+\\dots+\\frac{c_n}{c_1}\\frac{\\lambda_n^k}{\\lambda_1^k}v_n] = \\lambda_1x_k$$ "
   ]
  },
  {
   "cell_type": "code",
   "execution_count": 20,
   "id": "143f2edf",
   "metadata": {},
   "outputs": [
    {
     "name": "stdout",
     "output_type": "stream",
     "text": [
      "[2. 1.]\n"
     ]
    }
   ],
   "source": [
    "w, v = np.linalg.eig(a_matrix)\n",
    "\n",
    "print(w)"
   ]
  },
  {
   "cell_type": "code",
   "execution_count": 23,
   "id": "0b6d9857",
   "metadata": {},
   "outputs": [
    {
     "name": "stdout",
     "output_type": "stream",
     "text": [
      "16 [[1.    ]\n",
      " [0.0625]]\n",
      "32 [[1.     ]\n",
      " [0.03125]]\n",
      "64 [[1.      ]\n",
      " [0.015625]]\n",
      "128 [[1.       ]\n",
      " [0.0078125]]\n",
      "256 [[1.        ]\n",
      " [0.00390625]]\n",
      "512 [[1.        ]\n",
      " [0.00195312]]\n",
      "1024 [[1.000000e+00]\n",
      " [9.765625e-04]]\n",
      "2048 [[1.0000000e+00]\n",
      " [4.8828125e-04]]\n",
      "4096 [[1.00000000e+00]\n",
      " [2.44140625e-04]]\n",
      "8192 [[1.00000000e+00]\n",
      " [1.22070312e-04]]\n",
      "16384 [[1.00000000e+00]\n",
      " [6.10351562e-05]]\n",
      "32768 [[1.00000000e+00]\n",
      " [3.05175781e-05]]\n",
      "65536 [[1.00000000e+00]\n",
      " [1.52587891e-05]]\n",
      "131072 [[1.00000000e+00]\n",
      " [7.62939453e-06]]\n",
      "262144 [[1.00000000e+00]\n",
      " [3.81469727e-06]]\n",
      "524288 [[1.00000000e+00]\n",
      " [1.90734863e-06]]\n",
      "1048576 [[1.00000000e+00]\n",
      " [9.53674316e-07]]\n",
      "2097152 [[1.00000000e+00]\n",
      " [4.76837158e-07]]\n",
      "4194304 [[1.00000000e+00]\n",
      " [2.38418579e-07]]\n",
      "8388608 [[1.0000000e+00]\n",
      " [1.1920929e-07]]\n"
     ]
    }
   ],
   "source": [
    "iteration = 20\n",
    "\n",
    "for i in range(iteration):\n",
    "    x = np.dot(a_matrix, x)\n",
    "    #print(x)\n",
    "    fac = np.max(abs(x))\n",
    "    x_n = x / np.max(x)\n",
    "    print(fac, x_n)"
   ]
  },
  {
   "cell_type": "markdown",
   "id": "11deb539",
   "metadata": {},
   "source": [
    "## 3. The QR method:\n",
    "\n",
    "This is a method to find the eigenvalues of a matrix in one go.\n",
    "\n",
    "We say that 2 square matrices $A$ and $B$ are similar if:\n",
    "\n",
    "$$A = C^{-1}BC$$"
   ]
  },
  {
   "cell_type": "code",
   "execution_count": 24,
   "id": "ee46bc94",
   "metadata": {},
   "outputs": [
    {
     "name": "stdout",
     "output_type": "stream",
     "text": [
      "[[0 2]\n",
      " [2 3]]\n"
     ]
    }
   ],
   "source": [
    "# Define a new matrix\n",
    "b_matrix = np.array([[0, 2], [2, 3]])\n",
    "\n",
    "# Get the Q and R matrices\n",
    "\n",
    "q, r = np.linalg.qr(b_matrix)\n",
    "\n",
    "print(b_matrix)"
   ]
  },
  {
   "cell_type": "code",
   "execution_count": 25,
   "id": "219eb393",
   "metadata": {},
   "outputs": [
    {
     "name": "stdout",
     "output_type": "stream",
     "text": [
      "Q:\n",
      " [[ 0. -1.]\n",
      " [-1.  0.]]\n",
      "R:\n",
      " [[-2. -3.]\n",
      " [ 0. -2.]]\n"
     ]
    }
   ],
   "source": [
    "print('Q:\\n', q)\n",
    "\n",
    "print('R:\\n', r)\n"
   ]
  },
  {
   "cell_type": "code",
   "execution_count": 26,
   "id": "79bb5a31",
   "metadata": {},
   "outputs": [
    {
     "name": "stdout",
     "output_type": "stream",
     "text": [
      "QR:\n",
      " [[0. 2.]\n",
      " [2. 3.]]\n"
     ]
    }
   ],
   "source": [
    "b = np.dot(q, r)\n",
    "print('QR:\\n', b)"
   ]
  },
  {
   "cell_type": "code",
   "execution_count": 27,
   "id": "a9877708",
   "metadata": {},
   "outputs": [
    {
     "name": "stdout",
     "output_type": "stream",
     "text": [
      "EigResult(eigenvalues=array([-1.,  4.]), eigenvectors=array([[-0.89442719, -0.4472136 ],\n",
      "       [ 0.4472136 , -0.89442719]]))\n"
     ]
    }
   ],
   "source": [
    "# Get eigenvalues in the easy way\n",
    "\n",
    "print(np.linalg.eig(b_matrix))"
   ]
  },
  {
   "cell_type": "code",
   "execution_count": 28,
   "id": "c991b372",
   "metadata": {},
   "outputs": [
    {
     "name": "stdout",
     "output_type": "stream",
     "text": [
      "Iteration 1:\n",
      "[[3. 2.]\n",
      " [2. 0.]]\n",
      "Iteration 5:\n",
      "[[ 3.99998093  0.00976559]\n",
      " [ 0.00976559 -0.99998093]]\n",
      "Iteration 10:\n",
      "[[ 4.00000000e+00  9.53674316e-06]\n",
      " [ 9.53674316e-06 -1.00000000e+00]]\n",
      "Iteration 20:\n",
      "[[ 4.00000000e+00  9.09484250e-12]\n",
      " [ 9.09494702e-12 -1.00000000e+00]]\n"
     ]
    }
   ],
   "source": [
    "# Define # iterations\n",
    "p = [1, 5, 10, 20]\n",
    "\n",
    "for i in range(20):\n",
    "    # Split Q and R matrices\n",
    "    q, r = np.linalg.qr(b_matrix)\n",
    "    b_matrix = np.dot(r, q)\n",
    "    if i+1 in p:\n",
    "        print(f'Iteration {i+1}:')\n",
    "        print(b_matrix)"
   ]
  },
  {
   "cell_type": "markdown",
   "id": "f9bd61b3-25e3-4ef7-9f7a-bfbfb5d56cef",
   "metadata": {},
   "source": [
    "\n",
    "## QM problem: Hamiltonian, eigenvalues and eigenvectors\n",
    "\n",
    "$$\\newcommand{\\ket}[1]{\\left|{#1}\\right\\rangle}$$\n",
    "$$\\newcommand{\\bra}[1]{\\left\\langle{#1}\\right|}$$\n",
    "$$\\newcommand{\\braket}[2]{\\left\\langle{#1}\\middle|{#2}\\right\\rangle}$$\n",
    "\n",
    "Consider a quantum system in a state, $\\ket{\\Psi}$:\n",
    "\n",
    "$\\Psi = \\frac{1}{\\sqrt{3}}\\left[\\begin{array}{@{}c@{}}\n",
    "    i \\\\\n",
    "    -i \\\\\n",
    "    i \n",
    "    \\end{array} \\right]$\n",
    "    \n",
    "The Hamiltonian is represented by the matrix shown below:\n",
    "\n",
    "\n",
    "$\\hat{H} = \\left[\\begin{array}{@{ }c@{\\kern2em} c@{\\kern2em} c@{ }}\n",
    "2 & 1 & 0\\\\\n",
    "1 & 2 & 0\\\\\n",
    "0 & 0 & 3\n",
    "\\end{array} \\right]$\n",
    "\n",
    "(a) Determine the eigenvalues and eigenvectors of $\\hat{H}$. What do the eigenvalues represent?\n",
    "\n",
    "\n",
    "(b) Which eigenvalue of $\\hat{H}$ is most likely to emerge from a measurement?\n",
    "\n",
    "\n",
    "(c) Find $\\langle H \\rangle$, $\\langle H^2 \\rangle$, and $\\sigma_H$.\n"
   ]
  },
  {
   "cell_type": "markdown",
   "id": "b44da857-2a44-496b-931d-2bb2dadb873f",
   "metadata": {},
   "source": [
    "### Solution:\n",
    "\n",
    "(a) Determine the eigenvalues and eigenvectors of $\\hat{H}$. What do the eigenvalues represent?\n",
    "\n",
    "$\\hat{H} = \\left[\\begin{array}{@{ }c@{\\kern2em} c@{\\kern2em} c@{ }}\n",
    "2 & 1 & 0\\\\\n",
    "1 & 2 & 0\\\\\n",
    "0 & 0 & 3\n",
    "\\end{array} \\right]$"
   ]
  },
  {
   "cell_type": "code",
   "execution_count": 69,
   "id": "61fdc6b1-6393-4180-af78-1fd65ecbd3bc",
   "metadata": {},
   "outputs": [
    {
     "name": "stdout",
     "output_type": "stream",
     "text": [
      "[[2. 1. 0.]\n",
      " [1. 2. 0.]\n",
      " [0. 0. 3.]]\n",
      "(3, 3)\n"
     ]
    }
   ],
   "source": [
    "# Let's use numpy\n",
    "\n",
    "# Define the Hamiltonianmatrix\n",
    "\n",
    "h_matrix = np.array([[2., 1., 0.], [1., 2., 0.],[0., 0., 3.]])\n",
    "\n",
    "print(h_matrix)\n",
    "print(h_matrix.shape)"
   ]
  },
  {
   "cell_type": "code",
   "execution_count": 35,
   "id": "c8b6272f-8d36-4f7b-bbfd-3fcd57a33065",
   "metadata": {},
   "outputs": [
    {
     "name": "stdout",
     "output_type": "stream",
     "text": [
      "[3. 1. 3.]\n",
      "[[ 0.70710678 -0.70710678  0.        ]\n",
      " [ 0.70710678  0.70710678  0.        ]\n",
      " [ 0.          0.          1.        ]]\n"
     ]
    }
   ],
   "source": [
    "# 1. Numpy method\n",
    "\n",
    "w_eigvalues, v_eigvectors = np.linalg.eig(h_matrix)\n",
    "\n",
    "print(w_eigvalues)\n",
    "print(v_eigvectors)"
   ]
  },
  {
   "cell_type": "code",
   "execution_count": 41,
   "id": "d561e38b-6b6e-412f-b2f9-c9e0bc8f45a9",
   "metadata": {},
   "outputs": [
    {
     "name": "stdout",
     "output_type": "stream",
     "text": [
      "E1 =  3.0\n",
      "psi1 =  [ 0.70710678 -0.70710678  0.        ]\n",
      "\n",
      "\n",
      "E2 =  1.0\n",
      "psi2 =  [0.70710678 0.70710678 0.        ]\n",
      "\n",
      "\n",
      "E3 =  3.0\n",
      "psi3 =  [0. 0. 1.]\n"
     ]
    }
   ],
   "source": [
    "# Print the results (vector by vector)\n",
    "\n",
    "print(\"E1 = \", w_eigvalues[0])\n",
    "print(\"psi1 = \", v_eigvectors[0])\n",
    "print(\"\\n\")\n",
    "print(\"E2 = \", w_eigvalues[1])\n",
    "print(\"psi2 = \", v_eigvectors[1])\n",
    "print(\"\\n\")\n",
    "print(\"E3 = \", w_eigvalues[2])\n",
    "print(\"psi3 = \", v_eigvectors[2])"
   ]
  },
  {
   "cell_type": "code",
   "execution_count": 63,
   "id": "38552a10-bcd2-4243-949b-52dfdc6d2f6b",
   "metadata": {},
   "outputs": [
    {
     "name": "stdout",
     "output_type": "stream",
     "text": [
      "[ 0.70710678 -0.70710678  0.        ] [0. 0. 1.]\n",
      "0.0\n"
     ]
    }
   ],
   "source": [
    "# Check for linearly independence\n",
    "\n",
    "psi_1 = v_eigvectors[0]\n",
    "psi_2 = v_eigvectors[1]\n",
    "psi_3 = v_eigvectors[2]\n",
    "\n",
    "print(psi_1, psi_3)\n",
    "\n",
    "dot_13 = np.dot(psi_1, psi_3)\n",
    "#dot_13 = psi_1 @ psi_3\n",
    "\n",
    "print(dot_13)"
   ]
  },
  {
   "cell_type": "code",
   "execution_count": 52,
   "id": "96e51a9e-d14e-4884-bf7e-6ec3e4f741f7",
   "metadata": {},
   "outputs": [
    {
     "name": "stdout",
     "output_type": "stream",
     "text": [
      "Q:\n",
      " [[-0.89442719 -0.4472136   0.        ]\n",
      " [-0.4472136   0.89442719  0.        ]\n",
      " [-0.         -0.          1.        ]]\n",
      "R:\n",
      " [[-2.23606798 -1.78885438  0.        ]\n",
      " [ 0.          1.34164079  0.        ]\n",
      " [ 0.          0.          3.        ]]\n"
     ]
    }
   ],
   "source": [
    "# 2. QR method\n",
    "\n",
    "# Get the Q and R matrices\n",
    "\n",
    "q_h, r_h = np.linalg.qr(h_matrix)\n",
    "\n",
    "print('Q:\\n', q_h)\n",
    "\n",
    "print('R:\\n', r_h)\n"
   ]
  },
  {
   "cell_type": "code",
   "execution_count": 53,
   "id": "db699598-d82c-4b6b-89ab-17cf60e0d21a",
   "metadata": {},
   "outputs": [
    {
     "name": "stdout",
     "output_type": "stream",
     "text": [
      "Iteration 1:\n",
      "[[ 2.8 -0.6  0. ]\n",
      " [-0.6  1.2  0. ]\n",
      " [ 0.   0.   3. ]]\n",
      "Iteration 5:\n",
      "[[ 2.99996613 -0.00823031  0.        ]\n",
      " [-0.00823031  1.00003387  0.        ]\n",
      " [ 0.          0.          3.        ]]\n",
      "Iteration 10:\n",
      "[[3.00000000e+00 3.38701756e-05 0.00000000e+00]\n",
      " [3.38701756e-05 1.00000000e+00 0.00000000e+00]\n",
      " [0.00000000e+00 0.00000000e+00 3.00000000e+00]]\n",
      "Iteration 20:\n",
      "[[3.00000000e+00 5.73594316e-10 0.00000000e+00]\n",
      " [5.73594398e-10 1.00000000e+00 0.00000000e+00]\n",
      " [0.00000000e+00 0.00000000e+00 3.00000000e+00]]\n"
     ]
    }
   ],
   "source": [
    "# Define # iterations\n",
    "p = [1, 5, 10, 20]\n",
    "\n",
    "for i in range(20):\n",
    "    # Split Q and R matrices\n",
    "    q, r = np.linalg.qr(h_matrix)\n",
    "    h_matrix = np.dot(r, q)\n",
    "    if i+1 in p:\n",
    "        print(f'Iteration {i+1}:')\n",
    "        print(h_matrix)"
   ]
  },
  {
   "cell_type": "code",
   "execution_count": 61,
   "id": "8fc1ffd9-2308-438f-b2c7-f988bb488e1c",
   "metadata": {},
   "outputs": [
    {
     "name": "stdout",
     "output_type": "stream",
     "text": [
      "E1 =  2.999999999999999\n",
      "psi1 =  [ 0.70710678 -0.70710678  0.        ]\n",
      "\n",
      "\n",
      "E2 =  0.9999999999999998\n",
      "psi2 =  [0.70710678 0.70710678 0.        ]\n",
      "\n",
      "\n",
      "E3 =  3.0\n",
      "psi3 =  [0. 0. 1.]\n"
     ]
    }
   ],
   "source": [
    "# Print the results (vector by vector)\n",
    "\n",
    "print(\"E1 = \", h_matrix[0][0])\n",
    "print(\"psi1 = \", v_eigvectors[0])\n",
    "print(\"\\n\")\n",
    "print(\"E2 = \", h_matrix[1][1])\n",
    "print(\"psi2 = \", v_eigvectors[1])\n",
    "print(\"\\n\")\n",
    "print(\"E3 = \", h_matrix[2][2])\n",
    "print(\"psi3 = \", v_eigvectors[2])"
   ]
  },
  {
   "cell_type": "markdown",
   "id": "351028dc-ae30-48d8-be04-e4ef5f899e82",
   "metadata": {},
   "source": [
    "(b) Which eigenvalue of $\\hat{H}$ is most likely to emerge from a measurement?\n",
    "\n",
    "$\\Psi = \\frac{1}{\\sqrt{3}}\\left[\\begin{array}{@{}c@{}}\n",
    "    i \\\\\n",
    "    -i \\\\\n",
    "    i \n",
    "    \\end{array} \\right]$"
   ]
  },
  {
   "cell_type": "code",
   "execution_count": 77,
   "id": "3ee679d0-bd91-45fb-8e8d-7d440057426c",
   "metadata": {},
   "outputs": [
    {
     "name": "stdout",
     "output_type": "stream",
     "text": [
      "[ 0.+0.57735027j -0.-0.57735027j  0.+0.57735027j]\n",
      "1.0000000000000002\n"
     ]
    }
   ],
   "source": [
    "# Define the state vector j = sqrt(-1)\n",
    "\n",
    "psi = np.array([1.j/np.sqrt(3), -1.j/np.sqrt(3), 1.j/np.sqrt(3)])\n",
    "\n",
    "print(psi)\n",
    "\n",
    "print(abs(psi @ psi.T))"
   ]
  },
  {
   "cell_type": "code",
   "execution_count": 78,
   "id": "05d26b30-6dd3-4f86-9f80-0930b123f68e",
   "metadata": {},
   "outputs": [
    {
     "name": "stdout",
     "output_type": "stream",
     "text": [
      "0.6666666666666666\n",
      "3.167044797115946e-34\n",
      "0.3333333333333334\n"
     ]
    }
   ],
   "source": [
    "# Probabilities\n",
    "\n",
    "p1 = np.dot(psi_1 , psi)**2/np.dot(psi, psi)\n",
    "p2 = np.dot(psi_2 , psi)**2/np.dot(psi, psi)\n",
    "p3 = np.dot(psi_3 , psi)**2/np.dot(psi, psi)\n",
    "\n",
    "print(abs(p1)) # E1 is the most likely value to emerge in a measurement.\n",
    "\n",
    "print(abs(p2))\n",
    "\n",
    "print(abs(p3))"
   ]
  },
  {
   "cell_type": "markdown",
   "id": "5027be59-a431-4a79-a608-c5b96468a574",
   "metadata": {},
   "source": [
    "\n",
    "(c) Find $\\langle H \\rangle$, $\\langle H^2 \\rangle$, and $\\sigma_H$.\n",
    "\n",
    "\n",
    "$\\langle H \\rangle$ = $\\langle \\psi | H | \\psi \\rangle$"
   ]
  },
  {
   "cell_type": "code",
   "execution_count": 71,
   "id": "6a11217b-7a42-422b-aaff-87f505cf6904",
   "metadata": {},
   "outputs": [
    {
     "name": "stdout",
     "output_type": "stream",
     "text": [
      "1.6666666666666672\n"
     ]
    }
   ],
   "source": [
    "# Expectation value of H\n",
    "\n",
    "H_exp = np.dot(np.dot(np.conjugate(psi), h_matrix), psi.T)\n",
    "\n",
    "print(np.abs(H_exp))"
   ]
  },
  {
   "cell_type": "markdown",
   "id": "0487dcf3-ef37-4d85-b9a6-bc2562bbd952",
   "metadata": {},
   "source": [
    "$\\langle H^2 \\rangle$ = $\\langle \\psi | H^2 | \\psi \\rangle$"
   ]
  },
  {
   "cell_type": "code",
   "execution_count": 72,
   "id": "9f258e8f-98d9-4c71-a1b1-52de48864253",
   "metadata": {},
   "outputs": [
    {
     "name": "stdout",
     "output_type": "stream",
     "text": [
      "3.666666666666668\n"
     ]
    }
   ],
   "source": [
    "# Expectation value of H\n",
    "\n",
    "H2_exp = np.dot(np.dot(np.conjugate(psi), h_matrix @ h_matrix), psi.T)\n",
    "\n",
    "print(np.abs(H2_exp))"
   ]
  },
  {
   "cell_type": "markdown",
   "id": "9debda27-d369-4f98-8f4f-71349f7b0376",
   "metadata": {},
   "source": [
    "### Uncertainty:\n",
    "\n",
    "$\\sigma_H = \\sqrt{\\langle H^2 \\rangle - \\langle H\\rangle^2}$"
   ]
  },
  {
   "cell_type": "code",
   "execution_count": 74,
   "id": "2ba0079c-5bc5-443e-a1cc-703d5325f6f4",
   "metadata": {},
   "outputs": [
    {
     "name": "stdout",
     "output_type": "stream",
     "text": [
      "0.9428090415820631\n"
     ]
    }
   ],
   "source": [
    "sigma_h = np.sqrt(H2_exp - H_exp**2)\n",
    "\n",
    "print(abs(sigma_h))"
   ]
  },
  {
   "cell_type": "code",
   "execution_count": null,
   "id": "91b99e86-8fdc-4d9f-b531-67e9a7bde101",
   "metadata": {},
   "outputs": [],
   "source": []
  }
 ],
 "metadata": {
  "kernelspec": {
   "display_name": "Python 3 (ipykernel)",
   "language": "python",
   "name": "python3"
  },
  "language_info": {
   "codemirror_mode": {
    "name": "ipython",
    "version": 3
   },
   "file_extension": ".py",
   "mimetype": "text/x-python",
   "name": "python",
   "nbconvert_exporter": "python",
   "pygments_lexer": "ipython3",
   "version": "3.9.18"
  }
 },
 "nbformat": 4,
 "nbformat_minor": 5
}
